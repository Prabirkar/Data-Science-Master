{
 "cells": [
  {
   "cell_type": "code",
   "execution_count": 1,
   "id": "9788948c",
   "metadata": {},
   "outputs": [],
   "source": [
    "a=10"
   ]
  },
  {
   "cell_type": "code",
   "execution_count": 2,
   "id": "9fd667bb",
   "metadata": {},
   "outputs": [],
   "source": [
    "a=\"c\""
   ]
  },
  {
   "cell_type": "code",
   "execution_count": 3,
   "id": "3213449f",
   "metadata": {},
   "outputs": [
    {
     "data": {
      "text/plain": [
       "str"
      ]
     },
     "execution_count": 3,
     "metadata": {},
     "output_type": "execute_result"
    }
   ],
   "source": [
    "type(a)"
   ]
  },
  {
   "cell_type": "code",
   "execution_count": 4,
   "id": "c94a732e",
   "metadata": {},
   "outputs": [
    {
     "data": {
      "text/plain": [
       "0"
      ]
     },
     "execution_count": 4,
     "metadata": {},
     "output_type": "execute_result"
    }
   ],
   "source": [
    "int()"
   ]
  },
  {
   "cell_type": "code",
   "execution_count": 5,
   "id": "66084070",
   "metadata": {},
   "outputs": [
    {
     "data": {
      "text/plain": [
       "123"
      ]
     },
     "execution_count": 5,
     "metadata": {},
     "output_type": "execute_result"
    }
   ],
   "source": [
    "int('123')"
   ]
  },
  {
   "cell_type": "code",
   "execution_count": 6,
   "id": "401a247e",
   "metadata": {},
   "outputs": [
    {
     "name": "stdout",
     "output_type": "stream",
     "text": [
      "Hello World\n"
     ]
    }
   ],
   "source": [
    "print('Hello World')"
   ]
  },
  {
   "cell_type": "code",
   "execution_count": 7,
   "id": "a6878abc",
   "metadata": {},
   "outputs": [
    {
     "name": "stdout",
     "output_type": "stream",
     "text": [
      "123\n"
     ]
    }
   ],
   "source": [
    "print(123)"
   ]
  },
  {
   "cell_type": "code",
   "execution_count": 8,
   "id": "3a531064",
   "metadata": {},
   "outputs": [
    {
     "name": "stdout",
     "output_type": "stream",
     "text": [
      "my age : 32\n"
     ]
    }
   ],
   "source": [
    "age = 32\n",
    "print (\"my age :\", age)"
   ]
  },
  {
   "cell_type": "code",
   "execution_count": 9,
   "id": "f249d112",
   "metadata": {},
   "outputs": [
    {
     "name": "stdout",
     "output_type": "stream",
     "text": [
      "my age : 32\n"
     ]
    }
   ],
   "source": [
    "# f string concept)\n",
    "print(f\"my age : {age}\")"
   ]
  },
  {
   "cell_type": "code",
   "execution_count": 10,
   "id": "a63b9776",
   "metadata": {},
   "outputs": [
    {
     "name": "stdout",
     "output_type": "stream",
     "text": [
      "my name is Krissh and my age is 32\n"
     ]
    }
   ],
   "source": [
    "# format\n",
    "\n",
    "name = \"Krissh\"\n",
    "Age = 32\n",
    "\n",
    "print(\"my name is {} and my age is {}\".format(name,age))"
   ]
  },
  {
   "cell_type": "code",
   "execution_count": 11,
   "id": "90625216",
   "metadata": {},
   "outputs": [
    {
     "name": "stdout",
     "output_type": "stream",
     "text": [
      "my name is Krissh and age is 32\n"
     ]
    }
   ],
   "source": [
    "# Place Holder\n",
    "print('my name is {firstname} and age is {firstage}'.format(firstname = name , firstage = Age))"
   ]
  },
  {
   "cell_type": "code",
   "execution_count": 12,
   "id": "e1b2c68c",
   "metadata": {},
   "outputs": [
    {
     "name": "stdout",
     "output_type": "stream",
     "text": [
      "my age is 32 and I have completed : my degree of BE with name of Prabir\n"
     ]
    }
   ],
   "source": [
    "name = \"Prabir\"\n",
    "Age = 32\n",
    "degree =\"BE\"\n",
    "\n",
    "print( 'my age is {Age} and I have completed : my degree of {degree} with name of {name}'.format(Age =32,name='Prabir',degree = 'BE'))"
   ]
  },
  {
   "cell_type": "code",
   "execution_count": 13,
   "id": "16435bcf",
   "metadata": {
    "scrolled": true
   },
   "outputs": [
    {
     "name": "stdout",
     "output_type": "stream",
     "text": [
      "my age is 32 and I have comepleted : my degree of BE with name of Prabir\n"
     ]
    }
   ],
   "source": [
    "print(f'my age is {Age} and I have comepleted : my degree of {degree} with name of {name}')"
   ]
  },
  {
   "cell_type": "markdown",
   "id": "28a0716b",
   "metadata": {},
   "source": [
    "   1. **if**\n",
    "   2. **if else** \n",
    "   3. **if elif else**\n",
    "   4. **Nested if**\n",
    "   5. **Single Statement Suites**"
   ]
  },
  {
   "cell_type": "code",
   "execution_count": 14,
   "id": "78e81d6c",
   "metadata": {},
   "outputs": [
    {
     "name": "stdout",
     "output_type": "stream",
     "text": [
      "you are eligible to vote\n"
     ]
    }
   ],
   "source": [
    "# if statement\n",
    "age = 18\n",
    "if age>= 18:\n",
    "    print('you are eligible to vote')"
   ]
  },
  {
   "cell_type": "code",
   "execution_count": 15,
   "id": "633a6852",
   "metadata": {},
   "outputs": [
    {
     "ename": "SyntaxError",
     "evalue": "invalid syntax (3692602052.py, line 1)",
     "output_type": "error",
     "traceback": [
      "\u001b[1;36m  File \u001b[1;32m\"C:\\Users\\prabi\\AppData\\Local\\Temp\\ipykernel_3332\\3692602052.py\"\u001b[1;36m, line \u001b[1;32m1\u001b[0m\n\u001b[1;33m    ==,<=, >=\u001b[0m\n\u001b[1;37m    ^\u001b[0m\n\u001b[1;31mSyntaxError\u001b[0m\u001b[1;31m:\u001b[0m invalid syntax\n"
     ]
    }
   ],
   "source": [
    "==,<=, >="
   ]
  },
  {
   "cell_type": "code",
   "execution_count": 16,
   "id": "bda00590",
   "metadata": {},
   "outputs": [
    {
     "name": "stdout",
     "output_type": "stream",
     "text": [
      "you are not eligible to vote\n"
     ]
    }
   ],
   "source": [
    "# if statement\n",
    "age = 18\n",
    "if age<=18:\n",
    "    print('you are not eligible to vote')"
   ]
  },
  {
   "cell_type": "code",
   "execution_count": 17,
   "id": "3316b8c3",
   "metadata": {},
   "outputs": [
    {
     "name": "stdout",
     "output_type": "stream",
     "text": [
      "Enter your age24\n"
     ]
    }
   ],
   "source": [
    "name=input('Enter your age')"
   ]
  },
  {
   "cell_type": "code",
   "execution_count": 18,
   "id": "96000ee5",
   "metadata": {},
   "outputs": [
    {
     "name": "stdout",
     "output_type": "stream",
     "text": [
      "Enter your age22\n"
     ]
    }
   ],
   "source": [
    "age=int(input('Enter your age'))"
   ]
  },
  {
   "cell_type": "code",
   "execution_count": 19,
   "id": "6c677457",
   "metadata": {},
   "outputs": [],
   "source": [
    "## task\n",
    "## Task a input of age\n",
    "##chek wheter age >= 18 and age <= 45\n",
    "## display a message you are doing blood"
   ]
  },
  {
   "cell_type": "code",
   "execution_count": 20,
   "id": "1a6cc3e0",
   "metadata": {},
   "outputs": [
    {
     "data": {
      "text/plain": [
       "False"
      ]
     },
     "execution_count": 20,
     "metadata": {},
     "output_type": "execute_result"
    }
   ],
   "source": [
    "True and False"
   ]
  },
  {
   "cell_type": "code",
   "execution_count": 21,
   "id": "74b7fb2b",
   "metadata": {
    "scrolled": false
   },
   "outputs": [
    {
     "name": "stdout",
     "output_type": "stream",
     "text": [
      "Enter your age24\n",
      "You are young blood\n"
     ]
    }
   ],
   "source": [
    "# if statement\n",
    "age = int(input(\"Enter your age\"))\n",
    "if age >=18 and age <=45:\n",
    "    print(\"You are young blood\")"
   ]
  },
  {
   "cell_type": "code",
   "execution_count": 22,
   "id": "80d5970a",
   "metadata": {},
   "outputs": [
    {
     "name": "stdout",
     "output_type": "stream",
     "text": [
      "Enter your age40\n",
      "You are young blood\n"
     ]
    }
   ],
   "source": [
    "# if else statement\n",
    "\n",
    "age = int(input(\"Enter your age\"))\n",
    "if age >=18 and age <=45:\n",
    "    print(\"You are young blood\")\n",
    "\n",
    "else:\n",
    "    print(\"Thank you we will let you know\")"
   ]
  },
  {
   "cell_type": "code",
   "execution_count": 24,
   "id": "c0f23809",
   "metadata": {
    "scrolled": true
   },
   "outputs": [
    {
     "name": "stdout",
     "output_type": "stream",
     "text": [
      "Enter the Product price 1222\n",
      "product price after discount  977.6\n"
     ]
    }
   ],
   "source": [
    "## Mall - input the Product price\n",
    "##  product >1000 rs 20% off\n",
    "## print the product price after the discount\n",
    "## product <=1000 rs 30%\n",
    "## print the price after the discont\n",
    "\n",
    "Product_price = int(input(\"Enter the Product price \"))\n",
    "if Product_price > 1000:\n",
    "    print(\"product price after discount \", Product_price - (Product_price*20/100))\n",
    "if Product_price <= 1000:\n",
    "    print(\"product price after discount \", Product_price - (Product_price*30/100))"
   ]
  },
  {
   "cell_type": "code",
   "execution_count": 25,
   "id": "e3f1271c",
   "metadata": {},
   "outputs": [
    {
     "name": "stdout",
     "output_type": "stream",
     "text": [
      "Enter the Product price2000\n",
      "The price of the product is 1600.0\n"
     ]
    }
   ],
   "source": [
    "product_price=int(input(\"Enter the Product price\"))\n",
    "if product_price>1000:\n",
    "    print(\"The price of the product is {}\".format(product_price*0.8))\n",
    "else:\n",
    "    print(\"The price of the product is {}\".format(product_price*0.7))"
   ]
  },
  {
   "cell_type": "code",
   "execution_count": 26,
   "id": "15319351",
   "metadata": {},
   "outputs": [
    {
     "name": "stdout",
     "output_type": "stream",
     "text": [
      "Enter your product price2111\n",
      "product price1477.6999999999998\n"
     ]
    }
   ],
   "source": [
    "## mall - input the product price\n",
    "\n",
    "## product >3000 rs 20% off\n",
    "##print  the pproduct price aftet removing the discount\n",
    "# if price is 2999 the you will get a special gift.*( nested if )\n",
    "\n",
    "## if the price is ==4000 then you get a trip to Goa\n",
    "\n",
    "## product price >=2000 rs and <=3000 30 % off\n",
    "## print the product price after removingn the discount\n",
    "\n",
    "## product <=1000 rs and <=2000 40%\n",
    "## print the product price after remove the discount\n",
    "\n",
    "product_price = int(input(\"Enter your product price\"))\n",
    "if product_price >3000:\n",
    "    if product_price ==4000:\n",
    "        print('You get a trip to Goa')\n",
    "    print(\"product price{}\".format(product_price*0.8))\n",
    "elif product_price >=2000 and product_price <=3000:\n",
    "    if product_price ==2999:\n",
    "        print('Congratulation you got a special gift')\n",
    "    print(\"product price{}\".format(product_price*0.7))\n",
    "else:\n",
    "    print(\"product price{}\".format(product_price*0.6))"
   ]
  },
  {
   "cell_type": "code",
   "execution_count": 27,
   "id": "67a96d9e",
   "metadata": {},
   "outputs": [
    {
     "data": {
      "text/plain": [
       "True"
      ]
     },
     "execution_count": 27,
     "metadata": {},
     "output_type": "execute_result"
    }
   ],
   "source": [
    "# comparission Operator\n",
    "True==True"
   ]
  },
  {
   "cell_type": "code",
   "execution_count": 28,
   "id": "04cf62b6",
   "metadata": {},
   "outputs": [
    {
     "name": "stdout",
     "output_type": "stream",
     "text": [
      "Enter the number1234\n",
      "Go to Home\n"
     ]
    }
   ],
   "source": [
    "# Single statement\n",
    "val=int(input(\"Enter the number\"))\n",
    "if(val<=999):print(\"value is equal or less than ot eqal to 999\")\n",
    "else:\n",
    "    print('Go to Home')"
   ]
  },
  {
   "cell_type": "code",
   "execution_count": 29,
   "id": "b6dadaa5",
   "metadata": {},
   "outputs": [
    {
     "name": "stdout",
     "output_type": "stream",
     "text": [
      "25\n",
      "26\n",
      "27\n",
      "28\n",
      "29\n",
      "30\n",
      "31\n",
      "32\n",
      "33\n",
      "34\n",
      "35\n",
      "36\n",
      "37\n",
      "38\n",
      "39\n",
      "40\n",
      "41\n",
      "42\n",
      "43\n",
      "44\n",
      "45\n",
      "46\n",
      "47\n",
      "48\n",
      "49\n",
      "50\n",
      "51\n",
      "52\n",
      "53\n",
      "54\n",
      "55\n",
      "56\n",
      "57\n",
      "58\n",
      "59\n",
      "60\n",
      "it's time to retairement\n"
     ]
    }
   ],
   "source": [
    "# while loop while - else\n",
    "\n",
    "joining_age = 25\n",
    "\n",
    "while joining_age<=60:\n",
    "    print(joining_age)\n",
    "    joining_age = joining_age +1\n",
    "        \n",
    "else:\n",
    "    print( \"it's time to retairement\")"
   ]
  },
  {
   "cell_type": "code",
   "execution_count": 30,
   "id": "7c6dfe41",
   "metadata": {},
   "outputs": [
    {
     "name": "stdout",
     "output_type": "stream",
     "text": [
      "1000\n",
      "900\n",
      "800\n",
      "700\n",
      "600\n",
      "500\n",
      "400\n",
      "300\n",
      "200\n",
      "100\n",
      "put money in Bank\n"
     ]
    }
   ],
   "source": [
    "### there is a ATM machine with 1000 rs\n",
    "\n",
    "total_amount = 1000\n",
    "while total_amount!=0:\n",
    "    print(total_amount)\n",
    "    total_amount=total_amount-100\n",
    "else:print('put money in Bank')"
   ]
  },
  {
   "cell_type": "code",
   "execution_count": 31,
   "id": "a603d577",
   "metadata": {},
   "outputs": [
    {
     "name": "stdout",
     "output_type": "stream",
     "text": [
      "the champion\n",
      "the champion\n",
      "the champion\n",
      "the champion\n",
      "the champion\n",
      "the champion\n",
      "the champion\n",
      "the champion\n",
      "the champion\n",
      "the champion\n",
      "the champion\n",
      "the champion\n",
      "the champion\n",
      "the champion\n",
      "the champion\n",
      "the champion\n",
      "the champion\n",
      "the champion\n",
      "the champion\n",
      "the champion\n",
      "the champion\n",
      "the champion\n",
      "the champion\n",
      "the champion\n",
      "the champion\n",
      "the champion\n",
      "the champion\n",
      "the champion\n",
      "the champion\n",
      "the champion\n",
      "the champion\n",
      "the champion\n",
      "the champion\n",
      "the champion\n",
      "the champion\n",
      "the champion\n",
      "the champion\n",
      "the champion\n",
      "the champion\n",
      "the champion\n"
     ]
    }
   ],
   "source": [
    "i=0\n",
    "while (i<40):\n",
    "    \n",
    "    print(\"the champion\")\n",
    "    i=i+1"
   ]
  },
  {
   "cell_type": "markdown",
   "id": "3a0763b9",
   "metadata": {},
   "source": [
    "# For loop"
   ]
  },
  {
   "cell_type": "code",
   "execution_count": 32,
   "id": "34878665",
   "metadata": {},
   "outputs": [],
   "source": [
    "lst= [\"krish\",5,4,3,2,\"Banana\",\"apple\"]"
   ]
  },
  {
   "cell_type": "code",
   "execution_count": 33,
   "id": "8cee52f3",
   "metadata": {},
   "outputs": [
    {
     "data": {
      "text/plain": [
       "list"
      ]
     },
     "execution_count": 33,
     "metadata": {},
     "output_type": "execute_result"
    }
   ],
   "source": [
    "type(lst)"
   ]
  },
  {
   "cell_type": "code",
   "execution_count": 34,
   "id": "9b1ee8c9",
   "metadata": {},
   "outputs": [
    {
     "data": {
      "text/plain": [
       "2"
      ]
     },
     "execution_count": 34,
     "metadata": {},
     "output_type": "execute_result"
    }
   ],
   "source": [
    "lst[4]"
   ]
  },
  {
   "cell_type": "code",
   "execution_count": 35,
   "id": "1948c572",
   "metadata": {},
   "outputs": [
    {
     "name": "stdout",
     "output_type": "stream",
     "text": [
      "krish\n",
      "5\n",
      "4\n",
      "3\n",
      "2\n",
      "Banana\n",
      "apple\n"
     ]
    }
   ],
   "source": [
    "for x in lst:\n",
    "    print(x)"
   ]
  },
  {
   "cell_type": "code",
   "execution_count": 36,
   "id": "b0c7542f",
   "metadata": {},
   "outputs": [],
   "source": [
    "fruits_list = ['mango','Cherry','Apple','Papaya','Banana']"
   ]
  },
  {
   "cell_type": "code",
   "execution_count": 37,
   "id": "3634d085",
   "metadata": {},
   "outputs": [
    {
     "name": "stdout",
     "output_type": "stream",
     "text": [
      "mango\n",
      "Cherry\n",
      "The fruit is Cherry\n",
      "Apple\n",
      "Papaya\n",
      "Banana\n"
     ]
    }
   ],
   "source": [
    "for a in fruits_list:\n",
    "    print(a)\n",
    "    if a=='Cherry':\n",
    "        print('The fruit is Cherry')"
   ]
  },
  {
   "cell_type": "code",
   "execution_count": 38,
   "id": "ab7e44b5",
   "metadata": {},
   "outputs": [
    {
     "name": "stdout",
     "output_type": "stream",
     "text": [
      "mango"
     ]
    }
   ],
   "source": [
    "fruit = \"mango\"\n",
    "for x in fruit:\n",
    "    print(x,end='')"
   ]
  },
  {
   "cell_type": "code",
   "execution_count": 39,
   "id": "a120f2d0",
   "metadata": {},
   "outputs": [
    {
     "data": {
      "text/plain": [
       "'o'"
      ]
     },
     "execution_count": 39,
     "metadata": {},
     "output_type": "execute_result"
    }
   ],
   "source": [
    "fruit[4]"
   ]
  },
  {
   "cell_type": "code",
   "execution_count": 40,
   "id": "bf743d0d",
   "metadata": {},
   "outputs": [],
   "source": [
    "## Nested loops\n",
    "\n",
    "n=7"
   ]
  },
  {
   "cell_type": "code",
   "execution_count": 41,
   "id": "bc27340f",
   "metadata": {},
   "outputs": [
    {
     "data": {
      "text/plain": [
       "range(1, 6)"
      ]
     },
     "execution_count": 41,
     "metadata": {},
     "output_type": "execute_result"
    }
   ],
   "source": [
    "range(1,6)"
   ]
  },
  {
   "cell_type": "code",
   "execution_count": 42,
   "id": "7ddb9576",
   "metadata": {},
   "outputs": [
    {
     "name": "stdout",
     "output_type": "stream",
     "text": [
      "1\n",
      "3\n",
      "5\n",
      "7\n",
      "9\n"
     ]
    }
   ],
   "source": [
    "for i in range(1,10,2):\n",
    "    print(i)"
   ]
  },
  {
   "cell_type": "code",
   "execution_count": 43,
   "id": "0d61364c",
   "metadata": {
    "scrolled": false
   },
   "outputs": [
    {
     "name": "stdout",
     "output_type": "stream",
     "text": [
      "***\r\n",
      "****\r\n",
      "*****\r\n",
      "******\r\n",
      "*******\r\n",
      "********\r\n",
      "*********\r\n"
     ]
    }
   ],
   "source": [
    "n=7\n",
    "for i in range(0,n):\n",
    "    for j in range(0,i+3):\n",
    "        print(\"*\",end=\"\")\n",
    "    print(\"\\r\")"
   ]
  },
  {
   "cell_type": "code",
   "execution_count": 44,
   "id": "b1bb3d53",
   "metadata": {},
   "outputs": [
    {
     "name": "stdout",
     "output_type": "stream",
     "text": [
      "*\r\n",
      "**\r\n",
      "***\r\n",
      "****\r\n",
      "*****\r\n",
      "******\r\n",
      "*******\r\n"
     ]
    }
   ],
   "source": [
    "# Homwwork\n",
    "n=7\n",
    "for i in range(0,n):\n",
    "    for j in range(0,i+1):\n",
    "        print(\"*\",end=\"\")\n",
    "    print(\"\\r\")"
   ]
  },
  {
   "cell_type": "code",
   "execution_count": 45,
   "id": "bdb059de",
   "metadata": {
    "scrolled": true
   },
   "outputs": [
    {
     "name": "stdout",
     "output_type": "stream",
     "text": [
      "*\n",
      "**\n",
      "***\n",
      "****\n",
      "*****\n",
      "******\n",
      "*******\n",
      "********\n",
      "*********\n",
      "**********\n"
     ]
    }
   ],
   "source": [
    "n = 10\n",
    "for i in range(0,n):\n",
    "    for j in range(0,i+1):\n",
    "        print(\"*\",end=\"\")\n",
    "    print()"
   ]
  },
  {
   "cell_type": "code",
   "execution_count": 46,
   "id": "fb0ed135",
   "metadata": {},
   "outputs": [
    {
     "name": "stdout",
     "output_type": "stream",
     "text": [
      "**"
     ]
    }
   ],
   "source": [
    "num_rows = 10\n",
    "row = 0 #row intialize\n",
    "while(row < num_rows):\n",
    "    row += 9 #Rows count increase\n",
    "    \n",
    "    print(\"*\", end='')\n",
    "    "
   ]
  },
  {
   "cell_type": "code",
   "execution_count": null,
   "id": "ddb32ff1",
   "metadata": {},
   "outputs": [],
   "source": []
  },
  {
   "cell_type": "code",
   "execution_count": 47,
   "id": "858df604",
   "metadata": {},
   "outputs": [
    {
     "name": "stdout",
     "output_type": "stream",
     "text": [
      "Mango\n",
      "Cherry\n",
      "The fruit is apple\n"
     ]
    }
   ],
   "source": [
    "# loop Control\n",
    "### Break and continue\n",
    "fruits_list = ['Mango','Cherry','Apple','Papaya','Banana']\n",
    "\n",
    "for i in fruits_list:\n",
    "    \n",
    "    if i =='Apple':     \n",
    "        print('The fruit is apple')\n",
    "        break\n",
    "    print(i)"
   ]
  },
  {
   "cell_type": "code",
   "execution_count": 48,
   "id": "70d8d2c0",
   "metadata": {},
   "outputs": [
    {
     "name": "stdout",
     "output_type": "stream",
     "text": [
      "Mango\n",
      "Cherry\n",
      "The fruit is apple\n",
      "Apple\n",
      "Papaya\n",
      "Banana\n"
     ]
    }
   ],
   "source": [
    "# loop Control\n",
    "### Pass and continue\n",
    "fruits_list = ['Mango','Cherry','Apple','Papaya','Banana']\n",
    "\n",
    "for i in fruits_list:\n",
    "    \n",
    "    if i =='Apple':     \n",
    "        print('The fruit is apple')\n",
    "        pass\n",
    "    print(i)"
   ]
  },
  {
   "cell_type": "code",
   "execution_count": 49,
   "id": "4465e4b3",
   "metadata": {},
   "outputs": [
    {
     "name": "stdout",
     "output_type": "stream",
     "text": [
      "Mango\n",
      "Cherry\n",
      "The fruit is apple\n",
      "Papaya\n",
      "Banana\n"
     ]
    }
   ],
   "source": [
    "# loop Control\n",
    "### Continue and Skip the loop\n",
    "fruits_list = ['Mango','Cherry','Apple','Papaya','Banana']\n",
    "\n",
    "for i in fruits_list:\n",
    "    \n",
    "    if i =='Apple':     \n",
    "        print('The fruit is apple')\n",
    "        continue\n",
    "    print(i)"
   ]
  }
 ],
 "metadata": {
  "kernelspec": {
   "display_name": "Python 3 (ipykernel)",
   "language": "python",
   "name": "python3"
  },
  "language_info": {
   "codemirror_mode": {
    "name": "ipython",
    "version": 3
   },
   "file_extension": ".py",
   "mimetype": "text/x-python",
   "name": "python",
   "nbconvert_exporter": "python",
   "pygments_lexer": "ipython3",
   "version": "3.9.13"
  }
 },
 "nbformat": 4,
 "nbformat_minor": 5
}
