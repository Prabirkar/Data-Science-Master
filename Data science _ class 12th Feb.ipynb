{
 "cells": [
  {
   "cell_type": "code",
   "execution_count": null,
   "id": "9788948c",
   "metadata": {},
   "outputs": [],
   "source": [
    "a=10"
   ]
  },
  {
   "cell_type": "code",
   "execution_count": null,
   "id": "9fd667bb",
   "metadata": {},
   "outputs": [],
   "source": [
    "a=\"c\""
   ]
  },
  {
   "cell_type": "code",
   "execution_count": null,
   "id": "3213449f",
   "metadata": {},
   "outputs": [],
   "source": [
    "type(a)"
   ]
  },
  {
   "cell_type": "code",
   "execution_count": null,
   "id": "c94a732e",
   "metadata": {},
   "outputs": [],
   "source": [
    "int()"
   ]
  },
  {
   "cell_type": "code",
   "execution_count": null,
   "id": "66084070",
   "metadata": {},
   "outputs": [],
   "source": [
    "int('123')"
   ]
  },
  {
   "cell_type": "code",
   "execution_count": null,
   "id": "401a247e",
   "metadata": {},
   "outputs": [],
   "source": [
    "print('Hello World')"
   ]
  },
  {
   "cell_type": "code",
   "execution_count": null,
   "id": "a6878abc",
   "metadata": {},
   "outputs": [],
   "source": [
    "print(123)"
   ]
  },
  {
   "cell_type": "code",
   "execution_count": null,
   "id": "ec6c69d7",
   "metadata": {},
   "outputs": [],
   "source": [
    "print(hello world)"
   ]
  },
  {
   "cell_type": "code",
   "execution_count": null,
   "id": "3a531064",
   "metadata": {},
   "outputs": [],
   "source": [
    "age = 32\n",
    "print (\"my age :\", age)"
   ]
  },
  {
   "cell_type": "code",
   "execution_count": null,
   "id": "f249d112",
   "metadata": {},
   "outputs": [],
   "source": [
    "# f string concept)\n",
    "print(f\"my age : {age}\")"
   ]
  },
  {
   "cell_type": "code",
   "execution_count": null,
   "id": "a63b9776",
   "metadata": {},
   "outputs": [],
   "source": [
    "# format\n",
    "\n",
    "name = \"Krissh\"\n",
    "Age = 32\n",
    "\n",
    "print(\"my name is {} and my age is {}\".format(name,age))"
   ]
  },
  {
   "cell_type": "code",
   "execution_count": null,
   "id": "90625216",
   "metadata": {},
   "outputs": [],
   "source": [
    "# Place Holder\n",
    "print('my name is {firstname} and age is {firstage}'.format(firstname = name , firstage = Age))"
   ]
  },
  {
   "cell_type": "code",
   "execution_count": null,
   "id": "e1b2c68c",
   "metadata": {},
   "outputs": [],
   "source": [
    "name = \"Prabir\"\n",
    "Age = 32\n",
    "degree =\"BE\"\n",
    "\n",
    "print( 'my age is {Age} and I have completed : my degree of {degree} with name of {name}'.format(Age =32,name='Prabir',degree = 'BE'))"
   ]
  },
  {
   "cell_type": "code",
   "execution_count": null,
   "id": "16435bcf",
   "metadata": {
    "scrolled": true
   },
   "outputs": [],
   "source": [
    "print(f'my age is {Age} and I have comepleted : my degree of {degree} with name of {name}')"
   ]
  },
  {
   "cell_type": "markdown",
   "id": "28a0716b",
   "metadata": {},
   "source": [
    "   1. **if**\n",
    "   2. **if else** \n",
    "   3. **if elif else**\n",
    "   4. **Nested if**\n",
    "   5. **Single Statement Suites**"
   ]
  },
  {
   "cell_type": "code",
   "execution_count": null,
   "id": "78e81d6c",
   "metadata": {},
   "outputs": [],
   "source": [
    "# if statement\n",
    "age = 18\n",
    "if age>= 18:\n",
    "    print('you are eligible to vote')"
   ]
  },
  {
   "cell_type": "code",
   "execution_count": null,
   "id": "633a6852",
   "metadata": {},
   "outputs": [],
   "source": [
    "==,<=, >="
   ]
  },
  {
   "cell_type": "code",
   "execution_count": null,
   "id": "bda00590",
   "metadata": {},
   "outputs": [],
   "source": [
    "# if statement\n",
    "age = 18\n",
    "if age<=18:\n",
    "    print('you are not eligible to vote')"
   ]
  },
  {
   "cell_type": "code",
   "execution_count": null,
   "id": "3316b8c3",
   "metadata": {},
   "outputs": [],
   "source": [
    "name=input('Enter your age')"
   ]
  },
  {
   "cell_type": "code",
   "execution_count": null,
   "id": "96000ee5",
   "metadata": {},
   "outputs": [],
   "source": [
    "age=int(input('Enter your age'))"
   ]
  },
  {
   "cell_type": "code",
   "execution_count": null,
   "id": "6c677457",
   "metadata": {},
   "outputs": [],
   "source": [
    "## task\n",
    "## Task a input of age\n",
    "##chek wheter age >= 18 and age <= 45\n",
    "## display a message you are doing blood"
   ]
  },
  {
   "cell_type": "code",
   "execution_count": null,
   "id": "1a6cc3e0",
   "metadata": {},
   "outputs": [],
   "source": [
    "True and False"
   ]
  },
  {
   "cell_type": "code",
   "execution_count": null,
   "id": "74b7fb2b",
   "metadata": {
    "scrolled": false
   },
   "outputs": [],
   "source": [
    "# if statement\n",
    "age = int(input(\"Enter your age\"))\n",
    "if age >=18 and age <=45:\n",
    "    print(\"You are young blood\")"
   ]
  },
  {
   "cell_type": "code",
   "execution_count": null,
   "id": "80d5970a",
   "metadata": {},
   "outputs": [],
   "source": [
    "# if else statement\n",
    "\n",
    "age = int(input(\"Enter your age\"))\n",
    "if age >=18 and age <=45:\n",
    "    print(\"You are young blood\")\n",
    "\n",
    "else:\n",
    "    print(\"Thank you we will let you know\")"
   ]
  },
  {
   "cell_type": "code",
   "execution_count": null,
   "id": "c0f23809",
   "metadata": {
    "scrolled": true
   },
   "outputs": [],
   "source": [
    "## Mall - input the Product price\n",
    "##  product >1000 rs 20% off\n",
    "## print the product price after the discount\n",
    "## product <=1000 rs 30%\n",
    "## print the price after the discont\n",
    "\n",
    "Product_price = int(input(\"Enter the Product price \"))\n",
    "if Product_price > 1000:\n",
    "    print(\"product price after discount \", Product_price - (Product_price*20/100))\n",
    "if Product_price <= 1000:\n",
    "    print(\"product price after discount \", Product_price - (Product_price*30/100))"
   ]
  },
  {
   "cell_type": "code",
   "execution_count": null,
   "id": "e3f1271c",
   "metadata": {},
   "outputs": [],
   "source": [
    "product_price=int(input(\"Enter the Product price\"))\n",
    "if product_price>1000:\n",
    "    print(\"The price of the product is {}\".format(product_price*0.8))\n",
    "else:\n",
    "    print(\"The price of the product is {}\".format(product_price*0.7))"
   ]
  },
  {
   "cell_type": "code",
   "execution_count": null,
   "id": "15319351",
   "metadata": {},
   "outputs": [],
   "source": [
    "## mall - input the product price\n",
    "\n",
    "## product >3000 rs 20% off\n",
    "##print  the pproduct price aftet removing the discount\n",
    "# if price is 2999 the you will get a special gift.*( nested if )\n",
    "\n",
    "## if the price is ==4000 then you get a trip to Goa\n",
    "\n",
    "## product price >=2000 rs and <=3000 30 % off\n",
    "## print the product price after removingn the discount\n",
    "\n",
    "## product <=1000 rs and <=2000 40%\n",
    "## print the product price after remove the discount\n",
    "\n",
    "product_price = int(input(\"Enter your product price\"))\n",
    "if product_price >3000:\n",
    "    if product_price ==4000:\n",
    "        print('You get a trip to Goa')\n",
    "    print(\"product price{}\".format(product_price*0.8))\n",
    "elif product_price >=2000 and product_price <=3000:\n",
    "    if product_price ==2999:\n",
    "        print('Congratulation you got a special gift')\n",
    "    print(\"product price{}\".format(product_price*0.7))\n",
    "else:\n",
    "    print(\"product price{}\".format(product_price*0.6))"
   ]
  },
  {
   "cell_type": "code",
   "execution_count": null,
   "id": "67a96d9e",
   "metadata": {},
   "outputs": [],
   "source": [
    "# comparission Operator\n",
    "True==True"
   ]
  },
  {
   "cell_type": "code",
   "execution_count": 7,
   "id": "04cf62b6",
   "metadata": {},
   "outputs": [
    {
     "name": "stdout",
     "output_type": "stream",
     "text": [
      "Enter the number1000\n",
      "Go to Home\n"
     ]
    }
   ],
   "source": [
    "# Single statement\n",
    "val=int(input(\"Enter the number\"))\n",
    "if(val<=999):print(\"value is equal or less than ot eqal to 999\")\n",
    "else:\n",
    "    print('Go to Home')"
   ]
  },
  {
   "cell_type": "code",
   "execution_count": null,
   "id": "b6dadaa5",
   "metadata": {},
   "outputs": [],
   "source": []
  },
  {
   "cell_type": "code",
   "execution_count": null,
   "id": "7c6dfe41",
   "metadata": {},
   "outputs": [],
   "source": []
  }
 ],
 "metadata": {
  "kernelspec": {
   "display_name": "Python 3 (ipykernel)",
   "language": "python",
   "name": "python3"
  },
  "language_info": {
   "codemirror_mode": {
    "name": "ipython",
    "version": 3
   },
   "file_extension": ".py",
   "mimetype": "text/x-python",
   "name": "python",
   "nbconvert_exporter": "python",
   "pygments_lexer": "ipython3",
   "version": "3.9.13"
  }
 },
 "nbformat": 4,
 "nbformat_minor": 5
}
