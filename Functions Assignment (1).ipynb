{
 "cells": [
  {
   "cell_type": "markdown",
   "id": "81cd4bbe",
   "metadata": {},
   "source": [
    "# Q1. Which keyword is used to create a function? Create a function to return a list of odd numbers in the range of 1 to 25."
   ]
  },
  {
   "cell_type": "code",
   "execution_count": 1,
   "id": "98a884e4",
   "metadata": {},
   "outputs": [],
   "source": [
    "# Key ward use to create the function \"def\"\n",
    "\n",
    "#function to return a list of odd numbers in the range of 1 to 25.\n",
    "def odd():\n",
    "    odd=[]\n",
    "    for i in range(1,26):\n",
    "        if i % 2==1:\n",
    "            odd.append(i)\n",
    "    return odd"
   ]
  },
  {
   "cell_type": "code",
   "execution_count": 2,
   "id": "72e774b9",
   "metadata": {},
   "outputs": [
    {
     "data": {
      "text/plain": [
       "[1, 3, 5, 7, 9, 11, 13, 15, 17, 19, 21, 23, 25]"
      ]
     },
     "execution_count": 2,
     "metadata": {},
     "output_type": "execute_result"
    }
   ],
   "source": [
    "odd()"
   ]
  },
  {
   "cell_type": "code",
   "execution_count": 3,
   "id": "7c7457ac",
   "metadata": {},
   "outputs": [],
   "source": [
    "# another example after creting the list\n",
    "l=[1,2,3,4,5,6,7,8,9,10,11,12,13,14,15,16,17,18,19,20,21,22,23,24,25,25]"
   ]
  },
  {
   "cell_type": "code",
   "execution_count": 4,
   "id": "76c668f1",
   "metadata": {},
   "outputs": [],
   "source": [
    "def odd(a):\n",
    "    odd=[]\n",
    "    for i in a:\n",
    "        if i % 2 ==1:\n",
    "            odd.append(i)\n",
    "    return odd"
   ]
  },
  {
   "cell_type": "code",
   "execution_count": 5,
   "id": "e7b95c39",
   "metadata": {},
   "outputs": [
    {
     "data": {
      "text/plain": [
       "[1, 3, 5, 7, 9, 11, 13, 15, 17, 19, 21, 23, 25, 25]"
      ]
     },
     "execution_count": 5,
     "metadata": {},
     "output_type": "execute_result"
    }
   ],
   "source": [
    "odd(l)"
   ]
  },
  {
   "cell_type": "markdown",
   "id": "7f2dfc94",
   "metadata": {},
   "source": [
    "# Q2. Why \\*args and \\*\\*kwargs is used in some functions? Create a function each for \\*args and \\*\\*kwargs to demonstrate their use."
   ]
  },
  {
   "cell_type": "code",
   "execution_count": 6,
   "id": "ccbbcb20",
   "metadata": {},
   "outputs": [],
   "source": [
    "# In function *args use to to pass the non keyword arguumrnts.\n",
    "# on the other hand **args use to pass the Keyword arguumrnts.\n",
    "\n",
    "#Example of the *args arguumrnts\":\n",
    "\n",
    "def test1(*args):\n",
    "    return args"
   ]
  },
  {
   "cell_type": "code",
   "execution_count": 7,
   "id": "92ae29c3",
   "metadata": {},
   "outputs": [
    {
     "data": {
      "text/plain": [
       "(1, 2, 3, 4, 5, [1, 3, 4, 5, 6], 'prabrikar', [33, 445, 67])"
      ]
     },
     "execution_count": 7,
     "metadata": {},
     "output_type": "execute_result"
    }
   ],
   "source": [
    "# *args use to to pass the non keyword arguumrnts.\n",
    "\n",
    "test1(1,2,3,4,5,[1,3,4,5,6],'prabrikar',[33,445,67])"
   ]
  },
  {
   "cell_type": "code",
   "execution_count": 8,
   "id": "ab1eb95f",
   "metadata": {},
   "outputs": [
    {
     "ename": "TypeError",
     "evalue": "test1() got an unexpected keyword argument 'a'",
     "output_type": "error",
     "traceback": [
      "\u001b[1;31m---------------------------------------------------------------------------\u001b[0m",
      "\u001b[1;31mTypeError\u001b[0m                                 Traceback (most recent call last)",
      "\u001b[1;32m~\\AppData\\Local\\Temp\\ipykernel_15572\\232312143.py\u001b[0m in \u001b[0;36m<module>\u001b[1;34m\u001b[0m\n\u001b[0;32m      1\u001b[0m \u001b[1;31m# *args does not pass keyword arguumrnts.\u001b[0m\u001b[1;33m\u001b[0m\u001b[1;33m\u001b[0m\u001b[0m\n\u001b[1;32m----> 2\u001b[1;33m \u001b[0mtest1\u001b[0m\u001b[1;33m(\u001b[0m\u001b[0ma\u001b[0m\u001b[1;33m=\u001b[0m\u001b[1;36m34\u001b[0m\u001b[1;33m,\u001b[0m\u001b[0mb\u001b[0m\u001b[1;33m=\u001b[0m\u001b[1;36m23\u001b[0m\u001b[1;33m,\u001b[0m\u001b[0mc\u001b[0m\u001b[1;33m=\u001b[0m\u001b[1;33m[\u001b[0m\u001b[1;36m1\u001b[0m\u001b[1;33m,\u001b[0m\u001b[1;36m2\u001b[0m\u001b[1;33m,\u001b[0m\u001b[1;36m3\u001b[0m\u001b[1;33m,\u001b[0m\u001b[1;36m4\u001b[0m\u001b[1;33m]\u001b[0m\u001b[1;33m,\u001b[0m\u001b[0md\u001b[0m \u001b[1;33m=\u001b[0m\u001b[1;33m(\u001b[0m\u001b[1;34m'prabir'\u001b[0m\u001b[1;33m,\u001b[0m\u001b[1;34m'kar'\u001b[0m\u001b[1;33m)\u001b[0m\u001b[1;33m)\u001b[0m\u001b[1;33m\u001b[0m\u001b[1;33m\u001b[0m\u001b[0m\n\u001b[0m",
      "\u001b[1;31mTypeError\u001b[0m: test1() got an unexpected keyword argument 'a'"
     ]
    }
   ],
   "source": [
    "# *args does not pass keyword arguumrnts.\n",
    "test1(a=34,b=23,c=[1,2,3,4],d =('prabir','kar'))"
   ]
  },
  {
   "cell_type": "code",
   "execution_count": null,
   "id": "00f72f5f",
   "metadata": {},
   "outputs": [],
   "source": [
    "#Example of the **args arguumrnts\":\n",
    "\n",
    "def test2(**args):\n",
    "    return args"
   ]
  },
  {
   "cell_type": "code",
   "execution_count": null,
   "id": "82b1c0aa",
   "metadata": {},
   "outputs": [],
   "source": [
    "# **args use to pass the Keyword arguumrnts.\n",
    "\n",
    "test2(a=34,b=23,c=[1,2,3,4],d =('prabir','kar'))"
   ]
  },
  {
   "cell_type": "markdown",
   "id": "718c0600",
   "metadata": {},
   "source": [
    "# Q3. What is an iterator in python? Name the method used to initialise the iterator object and the methodused for iteration. Use these methods to print the first five elements of the given list [2, 4, 6, 8, 10, 12, 14, 16,18, 20]."
   ]
  },
  {
   "cell_type": "code",
   "execution_count": null,
   "id": "bd1e22b4",
   "metadata": {},
   "outputs": [],
   "source": [
    "# in Python iterator is a object that gets iterated through\n",
    "# there are two methods 1. iter()  2.next()\n",
    "\n",
    "# print the first five elements\n",
    "l = [2, 4, 6, 8, 10, 12, 14, 16,18, 20]\n",
    "\n",
    "iterator = iter(l)\n",
    "for i in range(5):\n",
    "    print(next(iterator))"
   ]
  },
  {
   "cell_type": "markdown",
   "id": "eb32634e",
   "metadata": {},
   "source": [
    "# Q4. What is a generator function in python? Why yield keyword is used? Give an example of a generator function."
   ]
  },
  {
   "cell_type": "code",
   "execution_count": null,
   "id": "7bd51873",
   "metadata": {},
   "outputs": [],
   "source": [
    "# Generator function is a very smart fuction which use to redure the process time and save the memory\n",
    "# Which means generator function gives the result one at a time\n",
    "\n",
    "# the yield is the keyward that we use in the generator function ,with yield function each time a value is getting Yeilded.\n",
    "\n",
    "# here is the example of generator function\n",
    "\n",
    "def test2(n):\n",
    "    a,b=0,1\n",
    "    for i in range(n):\n",
    "        yield a\n",
    "        a,b=b,a+b"
   ]
  },
  {
   "cell_type": "code",
   "execution_count": null,
   "id": "6358cdfc",
   "metadata": {},
   "outputs": [],
   "source": [
    "for i in test2(7):\n",
    "    print(i)"
   ]
  },
  {
   "cell_type": "markdown",
   "id": "d0a7e63c",
   "metadata": {},
   "source": [
    "# Q5. Create a generator function for prime numbers less than 1000. Use the next() method to print the first 20 prime numbers."
   ]
  },
  {
   "cell_type": "code",
   "execution_count": null,
   "id": "52ae756b",
   "metadata": {},
   "outputs": [],
   "source": [
    "#Let's create a function to Find the Prime number\n",
    "def Fnd_prime(n):\n",
    "    if n <=1:\n",
    "        return False\n",
    "    for i in range(2,int(n**0.5)+1):\n",
    "        if  n % i ==0:\n",
    "            return False\n",
    "    return True"
   ]
  },
  {
   "cell_type": "code",
   "execution_count": null,
   "id": "aad4a02b",
   "metadata": {},
   "outputs": [],
   "source": [
    "# let's test if it's working or not\n",
    "Fnd_prime(3)"
   ]
  },
  {
   "cell_type": "code",
   "execution_count": null,
   "id": "b41e69de",
   "metadata": {},
   "outputs": [],
   "source": [
    "# let's test if it's working or not\n",
    "Fnd_prime(4)"
   ]
  },
  {
   "cell_type": "code",
   "execution_count": null,
   "id": "88401488",
   "metadata": {},
   "outputs": [],
   "source": [
    "# Let's find the first 20 prime numbers in less than 1000\n",
    "\n",
    "def prime_generator():\n",
    "    num = 2\n",
    "    count = 0\n",
    "    while count <20:\n",
    "        if Fnd_prime(num):\n",
    "            yield num\n",
    "            count +=1\n",
    "        num+=1\n",
    "prime=prime_generator()  \n",
    "for i in range(20):\n",
    "    print(next(prime))"
   ]
  },
  {
   "cell_type": "code",
   "execution_count": null,
   "id": "05a25a10",
   "metadata": {},
   "outputs": [],
   "source": []
  }
 ],
 "metadata": {
  "kernelspec": {
   "display_name": "Python 3 (ipykernel)",
   "language": "python",
   "name": "python3"
  },
  "language_info": {
   "codemirror_mode": {
    "name": "ipython",
    "version": 3
   },
   "file_extension": ".py",
   "mimetype": "text/x-python",
   "name": "python",
   "nbconvert_exporter": "python",
   "pygments_lexer": "ipython3",
   "version": "3.9.13"
  }
 },
 "nbformat": 4,
 "nbformat_minor": 5
}
