{
 "cells": [
  {
   "cell_type": "markdown",
   "id": "b5aa8bc7",
   "metadata": {},
   "source": [
    "## Q1. What are the characteristics of the tuples? Is tuple immutable?"
   ]
  },
  {
   "cell_type": "code",
   "execution_count": 1,
   "id": "0507b2a9",
   "metadata": {},
   "outputs": [],
   "source": [
    "# 1) Tuples are immutable in nature\n",
    "# 2) Tuples does not allow to make any changes ater creating it\n",
    "# 3) Tuples does not have many build-in function\n",
    "# 4) To create Tuple use parentheses () in python\n",
    "# 5) Tuple can contain other composite objects , Such as list ,Row, or other Tuples\n",
    "# 6) With Tuple accessing the eliment is the best accomplished\n",
    "\n",
    "# Tuple is immutable , once we will decleared the contents as Tuple it won't allow to modify further"
   ]
  },
  {
   "cell_type": "markdown",
   "id": "3677dd85",
   "metadata": {},
   "source": [
    "# Q2. What are the two tuple methods in python? Give an example of each method. Give a reason why tuples have only two in-built methods as compared to Lists."
   ]
  },
  {
   "cell_type": "code",
   "execution_count": 2,
   "id": "4605daeb",
   "metadata": {},
   "outputs": [],
   "source": [
    "# There are only two types of methods available in Tuple \n",
    "# 1) Count () - it's returns the number of occurrences of value in the Tuple\n",
    "# 2) index () - it's retuns specific value of the position where it present in the in the Tuple\n",
    "\n",
    "# Python Tuple is an immutable unlike list hence it does not have more number of method compaire to List\n",
    "# List is a mutable object and it has more number of methods such as append(),clear(),pop(),reverse(),sort() etc."
   ]
  },
  {
   "cell_type": "markdown",
   "id": "bb9f148c",
   "metadata": {},
   "source": [
    "# Q3. Which collection datatypes in python do not allow duplicate items?\n",
    "# Write a code using a set to remove duplicates from the given list. \n",
    "List = [1, 1, 1, 2, 1, 3, 1, 4, 2, 1, 2, 2, 2, 3, 2, 4, 3, 1, 3, 2, 3, 3, 3, 4, 4, 1, 4, 2, 4, 3, 4, 4]"
   ]
  },
  {
   "cell_type": "code",
   "execution_count": 3,
   "id": "c53b1cd0",
   "metadata": {},
   "outputs": [],
   "source": [
    "# Set is a collection which is unordered and unindexed , and no duplicate vlaues allows\n"
   ]
  },
  {
   "cell_type": "code",
   "execution_count": 10,
   "id": "526e6e89",
   "metadata": {},
   "outputs": [
    {
     "data": {
      "text/plain": [
       "list"
      ]
     },
     "execution_count": 10,
     "metadata": {},
     "output_type": "execute_result"
    }
   ],
   "source": [
    "List = [1, 1, 1, 2, 1, 3, 1, 4, 2, 1, 2, 2, 2, 3, 2, 4, 3, 1, 3, 2, 3, 3, 3, 4, 4, 1, 4, 2, 4, 3, 4, 4]\n",
    "type(List)"
   ]
  },
  {
   "cell_type": "code",
   "execution_count": 13,
   "id": "b6505290",
   "metadata": {},
   "outputs": [
    {
     "data": {
      "text/plain": [
       "{1, 2, 3, 4}"
      ]
     },
     "execution_count": 13,
     "metadata": {},
     "output_type": "execute_result"
    }
   ],
   "source": [
    "# Removing the Duplicates from the List by converting the list to set\n",
    "Set = set(List)\n",
    "Set"
   ]
  },
  {
   "cell_type": "code",
   "execution_count": 14,
   "id": "1ef3c420",
   "metadata": {},
   "outputs": [
    {
     "data": {
      "text/plain": [
       "set"
      ]
     },
     "execution_count": 14,
     "metadata": {},
     "output_type": "execute_result"
    }
   ],
   "source": [
    "type(Set)"
   ]
  },
  {
   "cell_type": "markdown",
   "id": "b065af70",
   "metadata": {},
   "source": [
    "# Q4. Explain the difference between the union() and update() methods for a set. Give an example of each method."
   ]
  },
  {
   "cell_type": "code",
   "execution_count": 45,
   "id": "05520eb5",
   "metadata": {},
   "outputs": [
    {
     "name": "stdout",
     "output_type": "stream",
     "text": [
      "{'train', 'bus', 'metro', 'taxi'}\n"
     ]
    }
   ],
   "source": [
    "# Union() Returns contains from the another sets and create new one , duplicates are excludsed\n",
    "\n",
    "# Example :\n",
    "\n",
    "x = {'train', 'bus','taxi'}\n",
    "y = {'bus','train','metro'}\n",
    "\n",
    "z = x.union(y)\n",
    "print(z)"
   ]
  },
  {
   "cell_type": "code",
   "execution_count": 48,
   "id": "aa827eac",
   "metadata": {},
   "outputs": [
    {
     "name": "stdout",
     "output_type": "stream",
     "text": [
      "{'train', 'bus', 'metro', 'taxi'}\n"
     ]
    }
   ],
   "source": [
    "# updates() it inset the value or add the in the current set from the another set,duplicates are excludsed\n",
    "\n",
    "# Example :\n",
    "\n",
    "x = {'train', 'bus','taxi'}\n",
    "y = {'bus','train','metro'}\n",
    "\n",
    "x.update(y)\n",
    "print(x)"
   ]
  },
  {
   "cell_type": "markdown",
   "id": "6c9fae90",
   "metadata": {},
   "source": [
    "# Q5. What is a dictionary? Give an example. Also, state whether a dictionary is ordered or unordered."
   ]
  },
  {
   "cell_type": "code",
   "execution_count": 52,
   "id": "df3ebe9d",
   "metadata": {},
   "outputs": [
    {
     "name": "stdout",
     "output_type": "stream",
     "text": [
      "{'Brand': 'Nokia', 'Model': 3110, 'Year': 2006}\n"
     ]
    }
   ],
   "source": [
    "# Dictionary are used to store the value in key : value pairs\n",
    "# Example \n",
    "product = {'Brand': 'Nokia', 'Model':3110,'Year':2006}\n",
    "print(product)\n",
    "# dictionary is an unordered collection of items\n",
    "# as on Python version 3.7 dictionary are ordered , in Python 3.6 and earlyer , dictionaries were unordered"
   ]
  },
  {
   "cell_type": "markdown",
   "id": "8ea1e878",
   "metadata": {},
   "source": [
    "# Q6. Can we create a nested dictionary? If so, please give an example by creating a simple one-level nested dictionary."
   ]
  },
  {
   "cell_type": "code",
   "execution_count": 2,
   "id": "b70a8ef5",
   "metadata": {},
   "outputs": [
    {
     "name": "stdout",
     "output_type": "stream",
     "text": [
      "{'key': {'name': 'Prabir', 'class': 'PW'}}\n"
     ]
    }
   ],
   "source": [
    "# Dictionary in Python is similar to the real world dictionary, Nested Dicrionary means putting a dictionary inside another Dictionary\n",
    "# Yes we can create nested Dictionary\n",
    "nested_dictionary = {\"key\":{\"name\":\"Prabir\", \"class\":\"PW\"}}\n",
    "print(nested_dictionary)"
   ]
  },
  {
   "cell_type": "markdown",
   "id": "356d71c5",
   "metadata": {},
   "source": [
    "# Q7. Using setdefault() method, create key named topics in the given dictionary and also add the value of the key as this list ['Python', 'Machine Learning’, 'Deep Learning']"
   ]
  },
  {
   "cell_type": "code",
   "execution_count": 19,
   "id": "8db50df5",
   "metadata": {},
   "outputs": [
    {
     "name": "stdout",
     "output_type": "stream",
     "text": [
      "{'name': 'Prabir', 'age': 30, 'topics': ['Python', 'Machime learning', 'Deep learning']}\n"
     ]
    }
   ],
   "source": [
    "Dict = {'name':'Prabir','age':30}\n",
    "Dict.setdefault('topics', ['Python','Machime learning','Deep learning'])\n",
    "print(Dict)"
   ]
  },
  {
   "cell_type": "markdown",
   "id": "3c7c2c07",
   "metadata": {},
   "source": [
    "# Q8. What are the three view objects in dictionaries? Use the three in-built methods in python to display these three view objects for the given dictionary.\n",
    "dict1 = {'Sport': 'Cricket' , 'Teams': ['India', 'Australia', 'England', 'South Africa', 'Sri Lanka', 'New Zealand']}"
   ]
  },
  {
   "cell_type": "code",
   "execution_count": 20,
   "id": "221a00d1",
   "metadata": {},
   "outputs": [],
   "source": [
    "# three view objects in dictionaries\n",
    "\n",
    "# 1)dict_keys: Obtained by calling the keys() method.\n",
    "# 2)dict_values: Obtained by calling the values() method\n",
    "# 3)dict_items: Obtained by calling the items() method\n",
    "\n",
    "dict1 = {'Sport': 'Cricket' , 'Teams': ['India', 'Australia', 'England', 'South Africa', 'Sri Lanka', 'New Zealand']}\n",
    "    "
   ]
  },
  {
   "cell_type": "code",
   "execution_count": 24,
   "id": "31acad2d",
   "metadata": {},
   "outputs": [
    {
     "name": "stdout",
     "output_type": "stream",
     "text": [
      "dict_keys(['Sport', 'Teams'])\n"
     ]
    }
   ],
   "source": [
    "# 1)dict_keys: Obtained by calling the keys() method.\n",
    "dirct_keys = dict1.keys()\n",
    "print(dirct_keys)"
   ]
  },
  {
   "cell_type": "code",
   "execution_count": 26,
   "id": "79c5f18e",
   "metadata": {},
   "outputs": [
    {
     "name": "stdout",
     "output_type": "stream",
     "text": [
      "dict_values(['Cricket', ['India', 'Australia', 'England', 'South Africa', 'Sri Lanka', 'New Zealand']])\n"
     ]
    }
   ],
   "source": [
    "# 2)dict_values: Obtained by calling the values() method\n",
    "\n",
    "dict_values =dict1.values()\n",
    "print(dict_values)"
   ]
  },
  {
   "cell_type": "code",
   "execution_count": 28,
   "id": "11e5fa47",
   "metadata": {},
   "outputs": [
    {
     "name": "stdout",
     "output_type": "stream",
     "text": [
      "dict_items([('Sport', 'Cricket'), ('Teams', ['India', 'Australia', 'England', 'South Africa', 'Sri Lanka', 'New Zealand'])])\n"
     ]
    }
   ],
   "source": [
    "# 3)dict_items: Obtained by calling the items() method\n",
    "dict_items =dict1.items()\n",
    "print(dict_items)"
   ]
  },
  {
   "cell_type": "code",
   "execution_count": null,
   "id": "2850bacf",
   "metadata": {},
   "outputs": [],
   "source": []
  }
 ],
 "metadata": {
  "kernelspec": {
   "display_name": "Python 3 (ipykernel)",
   "language": "python",
   "name": "python3"
  },
  "language_info": {
   "codemirror_mode": {
    "name": "ipython",
    "version": 3
   },
   "file_extension": ".py",
   "mimetype": "text/x-python",
   "name": "python",
   "nbconvert_exporter": "python",
   "pygments_lexer": "ipython3",
   "version": "3.9.13"
  }
 },
 "nbformat": 4,
 "nbformat_minor": 5
}
