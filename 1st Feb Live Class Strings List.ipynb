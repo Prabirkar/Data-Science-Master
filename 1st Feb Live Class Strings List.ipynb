{
 "cells": [
  {
   "cell_type": "code",
   "execution_count": 1,
   "id": "f1900ac8",
   "metadata": {},
   "outputs": [],
   "source": [
    "name = \"Data science master\""
   ]
  },
  {
   "cell_type": "code",
   "execution_count": 2,
   "id": "668e3599",
   "metadata": {},
   "outputs": [
    {
     "data": {
      "text/plain": [
       "'dATA SCIENCE MASTER'"
      ]
     },
     "execution_count": 2,
     "metadata": {},
     "output_type": "execute_result"
    }
   ],
   "source": [
    "name.swapcase()"
   ]
  },
  {
   "cell_type": "code",
   "execution_count": 3,
   "id": "43226830",
   "metadata": {},
   "outputs": [
    {
     "data": {
      "text/plain": [
       "'Data Science Master'"
      ]
     },
     "execution_count": 3,
     "metadata": {},
     "output_type": "execute_result"
    }
   ],
   "source": [
    "name.title()"
   ]
  },
  {
   "cell_type": "code",
   "execution_count": 4,
   "id": "70d6b625",
   "metadata": {},
   "outputs": [
    {
     "data": {
      "text/plain": [
       "'Data science master'"
      ]
     },
     "execution_count": 4,
     "metadata": {},
     "output_type": "execute_result"
    }
   ],
   "source": [
    "name.capitalize()"
   ]
  },
  {
   "cell_type": "markdown",
   "id": "797e4969",
   "metadata": {},
   "source": [
    "# Revrsing a String"
   ]
  },
  {
   "cell_type": "code",
   "execution_count": 5,
   "id": "de6c4798",
   "metadata": {},
   "outputs": [
    {
     "data": {
      "text/plain": [
       "'retsam ecneics ataD'"
      ]
     },
     "execution_count": 5,
     "metadata": {},
     "output_type": "execute_result"
    }
   ],
   "source": [
    "name[::-1]"
   ]
  },
  {
   "cell_type": "code",
   "execution_count": 6,
   "id": "63b31810",
   "metadata": {},
   "outputs": [
    {
     "data": {
      "text/plain": [
       "<reversed at 0x1a8342d9910>"
      ]
     },
     "execution_count": 6,
     "metadata": {},
     "output_type": "execute_result"
    }
   ],
   "source": [
    "reversed(name)"
   ]
  },
  {
   "cell_type": "code",
   "execution_count": 7,
   "id": "bfd44c62",
   "metadata": {},
   "outputs": [
    {
     "data": {
      "text/plain": [
       "'retsam ecneics ataD'"
      ]
     },
     "execution_count": 7,
     "metadata": {},
     "output_type": "execute_result"
    }
   ],
   "source": [
    "''.join(reversed(name))"
   ]
  },
  {
   "cell_type": "code",
   "execution_count": 8,
   "id": "39b69ac5",
   "metadata": {},
   "outputs": [
    {
     "data": {
      "text/plain": [
       "'a'"
      ]
     },
     "execution_count": 8,
     "metadata": {},
     "output_type": "execute_result"
    }
   ],
   "source": [
    "'Krish'.join(\"a\")"
   ]
  },
  {
   "cell_type": "code",
   "execution_count": 9,
   "id": "406498f6",
   "metadata": {},
   "outputs": [
    {
     "data": {
      "text/plain": [
       "'a-*- b-*- c-*- d'"
      ]
     },
     "execution_count": 9,
     "metadata": {},
     "output_type": "execute_result"
    }
   ],
   "source": [
    "'-*- '.join(\"abcd\")"
   ]
  },
  {
   "cell_type": "code",
   "execution_count": 10,
   "id": "85e5486b",
   "metadata": {},
   "outputs": [
    {
     "data": {
      "text/plain": [
       "'D*a*t*a* *s*c*i*e*n*c*e* *m*a*s*t*e*r'"
      ]
     },
     "execution_count": 10,
     "metadata": {},
     "output_type": "execute_result"
    }
   ],
   "source": [
    "'*'.join(name)"
   ]
  },
  {
   "cell_type": "code",
   "execution_count": 11,
   "id": "7e6e2296",
   "metadata": {},
   "outputs": [
    {
     "data": {
      "text/plain": [
       "'r*e*t*s*a*m* *e*c*n*e*i*c*s* *a*t*a*D'"
      ]
     },
     "execution_count": 11,
     "metadata": {},
     "output_type": "execute_result"
    }
   ],
   "source": [
    "\"*\".join(reversed(name))"
   ]
  },
  {
   "cell_type": "code",
   "execution_count": 12,
   "id": "eeb5b7a4",
   "metadata": {},
   "outputs": [
    {
     "data": {
      "text/plain": [
       "'rPwskillePwskilltPwskillsPwskillaPwskillmPwskill PwskillePwskillcPwskillnPwskillePwskilliPwskillcPwskillsPwskill PwskillaPwskilltPwskillaPwskillD'"
      ]
     },
     "execution_count": 12,
     "metadata": {},
     "output_type": "execute_result"
    }
   ],
   "source": [
    "\"Pwskill\".join(reversed(name))"
   ]
  },
  {
   "cell_type": "code",
   "execution_count": 13,
   "id": "b7f7a629",
   "metadata": {},
   "outputs": [
    {
     "data": {
      "text/plain": [
       "<reversed at 0x1a834331160>"
      ]
     },
     "execution_count": 13,
     "metadata": {},
     "output_type": "execute_result"
    }
   ],
   "source": [
    "reversed(name)"
   ]
  },
  {
   "cell_type": "code",
   "execution_count": 14,
   "id": "38536462",
   "metadata": {},
   "outputs": [
    {
     "data": {
      "text/plain": [
       "['r', 'i', 'b', 'a', 'r', 'P']"
      ]
     },
     "execution_count": 14,
     "metadata": {},
     "output_type": "execute_result"
    }
   ],
   "source": [
    "list(reversed(\"Prabir\"))"
   ]
  },
  {
   "cell_type": "code",
   "execution_count": 15,
   "id": "2b8740aa",
   "metadata": {},
   "outputs": [
    {
     "data": {
      "text/plain": [
       "<reversed at 0x1a834331ee0>"
      ]
     },
     "execution_count": 15,
     "metadata": {},
     "output_type": "execute_result"
    }
   ],
   "source": [
    "reversed(\"Prabir\")"
   ]
  },
  {
   "cell_type": "code",
   "execution_count": 16,
   "id": "0cf891c3",
   "metadata": {},
   "outputs": [
    {
     "name": "stdout",
     "output_type": "stream",
     "text": [
      "['D', 'a', 't', 'a', ' ', 's', 'c', 'i', 'e', 'n', 'c', 'e', ' ', 'm', 'a', 's', 't', 'e', 'r']\n"
     ]
    }
   ],
   "source": [
    "#typecasting\n",
    "print((list((name))))"
   ]
  },
  {
   "cell_type": "code",
   "execution_count": 17,
   "id": "b0abc486",
   "metadata": {},
   "outputs": [],
   "source": [
    "#joint\n",
    "Str1= \"Pw is agood company\""
   ]
  },
  {
   "cell_type": "code",
   "execution_count": 18,
   "id": "fe83e327",
   "metadata": {},
   "outputs": [
    {
     "name": "stdout",
     "output_type": "stream",
     "text": [
      "retsam ecneics ataD"
     ]
    }
   ],
   "source": [
    "for i in list(reversed(name)):\n",
    "    print(i, end=\"\")"
   ]
  },
  {
   "cell_type": "code",
   "execution_count": 19,
   "id": "dec7fb0c",
   "metadata": {},
   "outputs": [],
   "source": [
    "# Removing character from the end of the string"
   ]
  },
  {
   "cell_type": "code",
   "execution_count": 20,
   "id": "7b08a638",
   "metadata": {},
   "outputs": [
    {
     "data": {
      "text/plain": [
       "'pwskills'"
      ]
     },
     "execution_count": 20,
     "metadata": {},
     "output_type": "execute_result"
    }
   ],
   "source": [
    "# remove the space from end\n",
    "string_a = \" pwskills \"\n",
    "string_a.strip(\" \")"
   ]
  },
  {
   "cell_type": "code",
   "execution_count": 21,
   "id": "9568a6d3",
   "metadata": {},
   "outputs": [
    {
     "data": {
      "text/plain": [
       "'pwskills '"
      ]
     },
     "execution_count": 21,
     "metadata": {},
     "output_type": "execute_result"
    }
   ],
   "source": [
    "string_a.lstrip(\" \")"
   ]
  },
  {
   "cell_type": "code",
   "execution_count": 22,
   "id": "40a2fc92",
   "metadata": {},
   "outputs": [
    {
     "data": {
      "text/plain": [
       "'pwskills '"
      ]
     },
     "execution_count": 22,
     "metadata": {},
     "output_type": "execute_result"
    }
   ],
   "source": [
    "string_a.lstrip(\" \")"
   ]
  },
  {
   "cell_type": "code",
   "execution_count": 23,
   "id": "227f5c3c",
   "metadata": {},
   "outputs": [
    {
     "data": {
      "text/plain": [
       "' pwskills '"
      ]
     },
     "execution_count": 23,
     "metadata": {},
     "output_type": "execute_result"
    }
   ],
   "source": [
    "string_a.rstrip('')"
   ]
  },
  {
   "cell_type": "code",
   "execution_count": 24,
   "id": "a5ac0d53",
   "metadata": {},
   "outputs": [
    {
     "data": {
      "text/plain": [
       "'Grettinng from Pwskills'"
      ]
     },
     "execution_count": 24,
     "metadata": {},
     "output_type": "execute_result"
    }
   ],
   "source": [
    "# Replace string\n",
    "string_n ='Grettinng to Pwskills'\n",
    "string_n.replace(\"to\",\"from\")"
   ]
  },
  {
   "cell_type": "code",
   "execution_count": 25,
   "id": "122ee0a4",
   "metadata": {},
   "outputs": [
    {
     "data": {
      "text/plain": [
       "'Hello World'"
      ]
     },
     "execution_count": 25,
     "metadata": {},
     "output_type": "execute_result"
    }
   ],
   "source": [
    "'Hello World'"
   ]
  },
  {
   "cell_type": "code",
   "execution_count": 26,
   "id": "c950d8e7",
   "metadata": {},
   "outputs": [
    {
     "name": "stdout",
     "output_type": "stream",
     "text": [
      "test gmail.com\n"
     ]
    }
   ],
   "source": [
    "string_n=\"test@gmail.com\"\n",
    "var_a =string_n.replace('@',\" \")\n",
    "print(var_a)"
   ]
  },
  {
   "cell_type": "code",
   "execution_count": 27,
   "id": "d3303b8c",
   "metadata": {},
   "outputs": [
    {
     "data": {
      "text/plain": [
       "'Hello\\nworld'"
      ]
     },
     "execution_count": 27,
     "metadata": {},
     "output_type": "execute_result"
    }
   ],
   "source": [
    "'Hello\\nworld'"
   ]
  },
  {
   "cell_type": "code",
   "execution_count": 28,
   "id": "99902e5f",
   "metadata": {},
   "outputs": [
    {
     "data": {
      "text/plain": [
       "'Hello   world'"
      ]
     },
     "execution_count": 28,
     "metadata": {},
     "output_type": "execute_result"
    }
   ],
   "source": [
    "#add space where we have \\t\n",
    "'Hello\\tworld'.expandtabs()"
   ]
  },
  {
   "cell_type": "code",
   "execution_count": 29,
   "id": "3332a10c",
   "metadata": {},
   "outputs": [
    {
     "name": "stdout",
     "output_type": "stream",
     "text": [
      "Welcome to PW skills.Welcome to data science Master\n"
     ]
    }
   ],
   "source": [
    "STR1=\"Welcome to PW skills.Welcome to Dat cience Master\"\n",
    "STR2 = STR1.replace('Dat','data').replace('cience','science')\n",
    "print(STR2)"
   ]
  },
  {
   "cell_type": "code",
   "execution_count": 30,
   "id": "e0451968",
   "metadata": {},
   "outputs": [
    {
     "data": {
      "text/plain": [
       "False"
      ]
     },
     "execution_count": 30,
     "metadata": {},
     "output_type": "execute_result"
    }
   ],
   "source": [
    "# to check the upper case\n",
    "STR1.isupper()"
   ]
  },
  {
   "cell_type": "code",
   "execution_count": 31,
   "id": "442b836d",
   "metadata": {},
   "outputs": [],
   "source": [
    "STR3= 'KRISH'"
   ]
  },
  {
   "cell_type": "code",
   "execution_count": 32,
   "id": "2048376e",
   "metadata": {},
   "outputs": [
    {
     "data": {
      "text/plain": [
       "True"
      ]
     },
     "execution_count": 32,
     "metadata": {},
     "output_type": "execute_result"
    }
   ],
   "source": [
    "STR3.isupper()"
   ]
  },
  {
   "cell_type": "code",
   "execution_count": 33,
   "id": "b123b01d",
   "metadata": {},
   "outputs": [
    {
     "data": {
      "text/plain": [
       "True"
      ]
     },
     "execution_count": 33,
     "metadata": {},
     "output_type": "execute_result"
    }
   ],
   "source": [
    "# to check the space\n",
    "' '.isspace()"
   ]
  },
  {
   "cell_type": "code",
   "execution_count": 34,
   "id": "fb64d7c1",
   "metadata": {},
   "outputs": [
    {
     "name": "stdout",
     "output_type": "stream",
     "text": [
      "Hello\n"
     ]
    }
   ],
   "source": [
    "if \" \".isspace():\n",
    "    print('Hello')"
   ]
  },
  {
   "cell_type": "code",
   "execution_count": 35,
   "id": "873772b8",
   "metadata": {},
   "outputs": [],
   "source": [
    "str2=\"pwskills\""
   ]
  },
  {
   "cell_type": "code",
   "execution_count": 36,
   "id": "e275042c",
   "metadata": {},
   "outputs": [
    {
     "data": {
      "text/plain": [
       "True"
      ]
     },
     "execution_count": 36,
     "metadata": {},
     "output_type": "execute_result"
    }
   ],
   "source": [
    "str2.endswith('ls')"
   ]
  },
  {
   "cell_type": "code",
   "execution_count": 37,
   "id": "31a4307a",
   "metadata": {},
   "outputs": [
    {
     "data": {
      "text/plain": [
       "True"
      ]
     },
     "execution_count": 37,
     "metadata": {},
     "output_type": "execute_result"
    }
   ],
   "source": [
    "## check if all the char is string are alphanumeric\n",
    "a = \"abc1234r\"\n",
    "a.isalnum()"
   ]
  },
  {
   "cell_type": "code",
   "execution_count": 38,
   "id": "f8dd1581",
   "metadata": {},
   "outputs": [],
   "source": [
    "## to count the number of character in the strings"
   ]
  },
  {
   "cell_type": "code",
   "execution_count": 39,
   "id": "b7627ae8",
   "metadata": {},
   "outputs": [
    {
     "name": "stdout",
     "output_type": "stream",
     "text": [
      "8\n"
     ]
    }
   ],
   "source": [
    "count=0\n",
    "for i in a:\n",
    "    count=count+1\n",
    "print(count)"
   ]
  },
  {
   "cell_type": "code",
   "execution_count": 40,
   "id": "d062dad9",
   "metadata": {},
   "outputs": [
    {
     "data": {
      "text/plain": [
       "8"
      ]
     },
     "execution_count": 40,
     "metadata": {},
     "output_type": "execute_result"
    }
   ],
   "source": [
    "len(a)"
   ]
  },
  {
   "cell_type": "code",
   "execution_count": 41,
   "id": "6a4cc71a",
   "metadata": {},
   "outputs": [
    {
     "data": {
      "text/plain": [
       "'abc1234r'"
      ]
     },
     "execution_count": 41,
     "metadata": {},
     "output_type": "execute_result"
    }
   ],
   "source": [
    "a"
   ]
  },
  {
   "cell_type": "code",
   "execution_count": 42,
   "id": "56cd090c",
   "metadata": {},
   "outputs": [
    {
     "name": "stdout",
     "output_type": "stream",
     "text": [
      "a\n",
      "b\n",
      "c\n",
      "1\n",
      "2\n",
      "3\n",
      "4\n",
      "r\n"
     ]
    }
   ],
   "source": [
    "for i in a:\n",
    "    print(i)"
   ]
  },
  {
   "cell_type": "code",
   "execution_count": 43,
   "id": "8d791478",
   "metadata": {
    "scrolled": true
   },
   "outputs": [
    {
     "name": "stdout",
     "output_type": "stream",
     "text": [
      "0 = a\n",
      "1 = b\n",
      "2 = c\n",
      "3 = 1\n",
      "4 = 2\n",
      "5 = 3\n",
      "6 = 4\n",
      "7 = r\n"
     ]
    }
   ],
   "source": [
    "# with index\n",
    "for i in range(len(a)):\n",
    "    print(i,\"=\", a[i])\n"
   ]
  },
  {
   "cell_type": "code",
   "execution_count": 44,
   "id": "ea6853a9",
   "metadata": {},
   "outputs": [
    {
     "data": {
      "text/plain": [
       "'r4321cba'"
      ]
     },
     "execution_count": 44,
     "metadata": {},
     "output_type": "execute_result"
    }
   ],
   "source": [
    "a[::-1]"
   ]
  },
  {
   "cell_type": "code",
   "execution_count": 45,
   "id": "6d750214",
   "metadata": {},
   "outputs": [
    {
     "name": "stdout",
     "output_type": "stream",
     "text": [
      "7 = r\n",
      "6 = 4\n",
      "5 = 3\n",
      "4 = 2\n",
      "3 = 1\n",
      "2 = c\n",
      "1 = b\n",
      "0 = a\n"
     ]
    }
   ],
   "source": [
    "# index to iterate string reverse direction\n",
    "\n",
    "for i in range(len(a)-1,-1,-1):\n",
    "    print(i,\"=\", a[i])"
   ]
  },
  {
   "cell_type": "code",
   "execution_count": 46,
   "id": "debcc95e",
   "metadata": {
    "scrolled": false
   },
   "outputs": [
    {
     "name": "stdout",
     "output_type": "stream",
     "text": [
      "s\n",
      "l\n",
      "l\n",
      "i\n",
      "k\n",
      "s\n",
      "w\n",
      "p\n",
      "\n"
     ]
    }
   ],
   "source": [
    "string=\"pwskills\"\n",
    "ch =len(string)-1\n",
    "while ch >=0:\n",
    "    print(string[ch])\n",
    "    ch=ch-1\n",
    "print()"
   ]
  },
  {
   "cell_type": "code",
   "execution_count": 47,
   "id": "e36c9f37",
   "metadata": {},
   "outputs": [
    {
     "name": "stdout",
     "output_type": "stream",
     "text": [
      "s\n",
      "l\n",
      "l\n",
      "i\n",
      "k\n",
      "s\n",
      "w\n",
      "p\n"
     ]
    }
   ],
   "source": [
    "# best solution\n",
    "string=\"pwskills\"\n",
    "for i in range(len(string)):\n",
    "    print(string[len(string)-(i+1)])"
   ]
  },
  {
   "cell_type": "code",
   "execution_count": 48,
   "id": "c15068b6",
   "metadata": {},
   "outputs": [],
   "source": [
    "name = \"pwskills\"\n",
    "vowels =\"AaEeIiOoUu\""
   ]
  },
  {
   "cell_type": "code",
   "execution_count": 49,
   "id": "ab65a829",
   "metadata": {},
   "outputs": [
    {
     "name": "stdout",
     "output_type": "stream",
     "text": [
      "p is a not vowel\n",
      "w is a not vowel\n",
      "s is a not vowel\n",
      "k is a not vowel\n",
      "i is vowel\n",
      "l is a not vowel\n",
      "l is a not vowel\n",
      "s is a not vowel\n"
     ]
    }
   ],
   "source": [
    "for ch in name:\n",
    "    if ch in vowels:\n",
    "        print( \"{} is vowel\".format(ch))\n",
    "    else:\n",
    "        print('{} is a not vowel'.format(ch))"
   ]
  },
  {
   "cell_type": "markdown",
   "id": "ffcac310",
   "metadata": {},
   "source": [
    "# List"
   ]
  },
  {
   "cell_type": "code",
   "execution_count": 50,
   "id": "d4c0d29e",
   "metadata": {},
   "outputs": [
    {
     "data": {
      "text/plain": [
       "[]"
      ]
     },
     "execution_count": 50,
     "metadata": {},
     "output_type": "execute_result"
    }
   ],
   "source": [
    "[]"
   ]
  },
  {
   "cell_type": "code",
   "execution_count": 51,
   "id": "856542c1",
   "metadata": {},
   "outputs": [
    {
     "data": {
      "text/plain": [
       "list"
      ]
     },
     "execution_count": 51,
     "metadata": {},
     "output_type": "execute_result"
    }
   ],
   "source": [
    "type([])"
   ]
  },
  {
   "cell_type": "code",
   "execution_count": 52,
   "id": "1abae899",
   "metadata": {},
   "outputs": [
    {
     "data": {
      "text/plain": [
       "['Krish', 'naik', 'Pwskills', 32]"
      ]
     },
     "execution_count": 52,
     "metadata": {},
     "output_type": "execute_result"
    }
   ],
   "source": [
    "['Krish','naik','Pwskills',32]"
   ]
  },
  {
   "cell_type": "code",
   "execution_count": 53,
   "id": "62500c08",
   "metadata": {},
   "outputs": [
    {
     "data": {
      "text/plain": [
       "[1, 2, 3, 4, 5]"
      ]
     },
     "execution_count": 53,
     "metadata": {},
     "output_type": "execute_result"
    }
   ],
   "source": [
    "list([1,2,3,4,5])"
   ]
  },
  {
   "cell_type": "code",
   "execution_count": 54,
   "id": "45ea94f8",
   "metadata": {},
   "outputs": [
    {
     "data": {
      "text/plain": [
       "['p', 'w', 's', 'k', 'i', 'l', 'l', 's']"
      ]
     },
     "execution_count": 54,
     "metadata": {},
     "output_type": "execute_result"
    }
   ],
   "source": [
    "list(name)"
   ]
  },
  {
   "cell_type": "code",
   "execution_count": 55,
   "id": "0027ae27",
   "metadata": {},
   "outputs": [],
   "source": [
    "str1=\"Pw skills Data science master\""
   ]
  },
  {
   "cell_type": "code",
   "execution_count": 56,
   "id": "06acbb42",
   "metadata": {},
   "outputs": [
    {
     "name": "stdout",
     "output_type": "stream",
     "text": [
      "['P', 'w', ' ', 's', 'k', 'i', 'l', 'l', 's', ' ', 'D', 'a', 't', 'a', ' ', 's', 'c', 'i', 'e', 'n', 'c', 'e', ' ', 'm', 'a', 's', 't', 'e', 'r']"
     ]
    }
   ],
   "source": [
    "print(list(str1),end=\"\")"
   ]
  },
  {
   "cell_type": "code",
   "execution_count": 57,
   "id": "3242c5d3",
   "metadata": {},
   "outputs": [
    {
     "data": {
      "text/plain": [
       "['Pw', 'skills', 'Data', 'science', 'master']"
      ]
     },
     "execution_count": 57,
     "metadata": {},
     "output_type": "execute_result"
    }
   ],
   "source": [
    "list(str1.split(\" \"))"
   ]
  },
  {
   "cell_type": "code",
   "execution_count": 58,
   "id": "deef5fdb",
   "metadata": {},
   "outputs": [
    {
     "data": {
      "text/plain": [
       "'Pw skills Data science master'"
      ]
     },
     "execution_count": 58,
     "metadata": {},
     "output_type": "execute_result"
    }
   ],
   "source": [
    "str1"
   ]
  },
  {
   "cell_type": "code",
   "execution_count": 59,
   "id": "17a09622",
   "metadata": {},
   "outputs": [],
   "source": [
    "str1 =list(str1.split(\" \"))"
   ]
  },
  {
   "cell_type": "code",
   "execution_count": 60,
   "id": "b3ee92de",
   "metadata": {},
   "outputs": [
    {
     "data": {
      "text/plain": [
       "['Pw', 'skills', 'Data', 'science', 'master']"
      ]
     },
     "execution_count": 60,
     "metadata": {},
     "output_type": "execute_result"
    }
   ],
   "source": [
    "str1"
   ]
  },
  {
   "cell_type": "code",
   "execution_count": 61,
   "id": "31e52f1e",
   "metadata": {},
   "outputs": [
    {
     "data": {
      "text/plain": [
       "['master', 'Data', 'Pw']"
      ]
     },
     "execution_count": 61,
     "metadata": {},
     "output_type": "execute_result"
    }
   ],
   "source": [
    "str1[::-2]"
   ]
  },
  {
   "cell_type": "code",
   "execution_count": 62,
   "id": "34092436",
   "metadata": {},
   "outputs": [
    {
     "data": {
      "text/plain": [
       "['Pw', 'skills', 'Data', 'science', 'master', 'new eliment', 3]"
      ]
     },
     "execution_count": 62,
     "metadata": {},
     "output_type": "execute_result"
    }
   ],
   "source": [
    "# concatenation operation\n",
    "str1 + [\"new eliment\",3]"
   ]
  },
  {
   "cell_type": "code",
   "execution_count": 63,
   "id": "912fd917",
   "metadata": {},
   "outputs": [
    {
     "data": {
      "text/plain": [
       "['Pw', 'skills', 'Data', 'science', 'master', ['new element', 3]]"
      ]
     },
     "execution_count": 63,
     "metadata": {},
     "output_type": "execute_result"
    }
   ],
   "source": [
    "str1 + [['new element',3]]"
   ]
  },
  {
   "cell_type": "code",
   "execution_count": 64,
   "id": "afa90c9c",
   "metadata": {},
   "outputs": [],
   "source": [
    "#concatination operation\n",
    "list2 = str1 + [['new element',3]]"
   ]
  },
  {
   "cell_type": "code",
   "execution_count": 65,
   "id": "40b9fa12",
   "metadata": {},
   "outputs": [
    {
     "data": {
      "text/plain": [
       "['Pw', 'skills', 'Data', 'science', 'master', ['new element', 3]]"
      ]
     },
     "execution_count": 65,
     "metadata": {},
     "output_type": "execute_result"
    }
   ],
   "source": [
    "list2"
   ]
  },
  {
   "cell_type": "code",
   "execution_count": 66,
   "id": "a87857af",
   "metadata": {},
   "outputs": [
    {
     "data": {
      "text/plain": [
       "['new element', 3]"
      ]
     },
     "execution_count": 66,
     "metadata": {},
     "output_type": "execute_result"
    }
   ],
   "source": [
    "list2[-1]"
   ]
  },
  {
   "cell_type": "code",
   "execution_count": 67,
   "id": "61acf215",
   "metadata": {},
   "outputs": [
    {
     "data": {
      "text/plain": [
       "'new element'"
      ]
     },
     "execution_count": 67,
     "metadata": {},
     "output_type": "execute_result"
    }
   ],
   "source": [
    "list2[-1][0]"
   ]
  },
  {
   "cell_type": "code",
   "execution_count": 68,
   "id": "07ea822a",
   "metadata": {},
   "outputs": [
    {
     "data": {
      "text/plain": [
       "['Pw', 'skills', 'Data', 'science', 'master']"
      ]
     },
     "execution_count": 68,
     "metadata": {},
     "output_type": "execute_result"
    }
   ],
   "source": [
    "str1"
   ]
  },
  {
   "cell_type": "code",
   "execution_count": 69,
   "id": "dd0bf768",
   "metadata": {},
   "outputs": [
    {
     "data": {
      "text/plain": [
       "['Pw',\n",
       " 'skills',\n",
       " 'Data',\n",
       " 'science',\n",
       " 'master',\n",
       " 'Pw',\n",
       " 'skills',\n",
       " 'Data',\n",
       " 'science',\n",
       " 'master']"
      ]
     },
     "execution_count": 69,
     "metadata": {},
     "output_type": "execute_result"
    }
   ],
   "source": [
    "str1*2"
   ]
  },
  {
   "cell_type": "code",
   "execution_count": 70,
   "id": "ac88adb5",
   "metadata": {},
   "outputs": [
    {
     "data": {
      "text/plain": [
       "['Pw', 'skills', 'Data', 'science', 'master']"
      ]
     },
     "execution_count": 70,
     "metadata": {},
     "output_type": "execute_result"
    }
   ],
   "source": [
    "str1"
   ]
  },
  {
   "cell_type": "code",
   "execution_count": 71,
   "id": "a8d0755b",
   "metadata": {},
   "outputs": [
    {
     "name": "stdout",
     "output_type": "stream",
     "text": [
      "science\n"
     ]
    }
   ],
   "source": [
    "# check eliment inside the a list\n",
    "for i in str1:\n",
    "    if \"science\" in i:\n",
    "        print(i)\n",
    "        break"
   ]
  },
  {
   "cell_type": "code",
   "execution_count": 72,
   "id": "78e83f8b",
   "metadata": {},
   "outputs": [
    {
     "data": {
      "text/plain": [
       "True"
      ]
     },
     "execution_count": 72,
     "metadata": {},
     "output_type": "execute_result"
    }
   ],
   "source": [
    "## check elememnts inside a list\n",
    "lst = [1,2,3,4,5,]\n",
    "4 in lst"
   ]
  },
  {
   "cell_type": "code",
   "execution_count": 73,
   "id": "673bd399",
   "metadata": {},
   "outputs": [],
   "source": [
    "lst1=['Zebra','Monkey','Donkey', 'Lion']\n",
    "lst2=[5,6,7,5,8,6]"
   ]
  },
  {
   "cell_type": "code",
   "execution_count": 74,
   "id": "26d7eef2",
   "metadata": {},
   "outputs": [
    {
     "name": "stdout",
     "output_type": "stream",
     "text": [
      "Zebra\n"
     ]
    }
   ],
   "source": [
    "print(max(lst1))"
   ]
  },
  {
   "cell_type": "code",
   "execution_count": 75,
   "id": "e396b227",
   "metadata": {},
   "outputs": [
    {
     "name": "stdout",
     "output_type": "stream",
     "text": [
      "Donkey\n"
     ]
    }
   ],
   "source": [
    "print(min(lst1))"
   ]
  },
  {
   "cell_type": "code",
   "execution_count": 76,
   "id": "0bc0e1dd",
   "metadata": {},
   "outputs": [
    {
     "data": {
      "text/plain": [
       "True"
      ]
     },
     "execution_count": 76,
     "metadata": {},
     "output_type": "execute_result"
    }
   ],
   "source": [
    "5==5.0"
   ]
  },
  {
   "cell_type": "code",
   "execution_count": 77,
   "id": "26a04421",
   "metadata": {},
   "outputs": [
    {
     "data": {
      "text/plain": [
       "True"
      ]
     },
     "execution_count": 77,
     "metadata": {},
     "output_type": "execute_result"
    }
   ],
   "source": [
    "lst3=[5,6,2,9,8,6]\n",
    "type(list[0]) ## output is the integer\n",
    "type(5.0) ## output is float\n",
    "5.0 in lst3 ## output is True"
   ]
  },
  {
   "cell_type": "code",
   "execution_count": 78,
   "id": "0c534330",
   "metadata": {},
   "outputs": [],
   "source": [
    "lst=[1,2,3,4,5,6]"
   ]
  },
  {
   "cell_type": "code",
   "execution_count": 79,
   "id": "98057460",
   "metadata": {},
   "outputs": [
    {
     "data": {
      "text/plain": [
       "[1, 2, 3, 4, 5, 6]"
      ]
     },
     "execution_count": 79,
     "metadata": {},
     "output_type": "execute_result"
    }
   ],
   "source": [
    "lst"
   ]
  },
  {
   "cell_type": "code",
   "execution_count": 80,
   "id": "b1ad36fd",
   "metadata": {},
   "outputs": [],
   "source": [
    "## to add any new eliment in list\n",
    "lst.append('Pwskills')"
   ]
  },
  {
   "cell_type": "code",
   "execution_count": 81,
   "id": "e29f9dc6",
   "metadata": {
    "scrolled": true
   },
   "outputs": [
    {
     "data": {
      "text/plain": [
       "[1, 2, 3, 4, 5, 6, 'Pwskills']"
      ]
     },
     "execution_count": 81,
     "metadata": {},
     "output_type": "execute_result"
    }
   ],
   "source": [
    "lst"
   ]
  },
  {
   "cell_type": "code",
   "execution_count": 82,
   "id": "a5cf25ea",
   "metadata": {},
   "outputs": [],
   "source": [
    "lst.append(['PW', 'Skill'])"
   ]
  },
  {
   "cell_type": "code",
   "execution_count": 83,
   "id": "01fb3857",
   "metadata": {},
   "outputs": [
    {
     "data": {
      "text/plain": [
       "[1, 2, 3, 4, 5, 6, 'Pwskills', ['PW', 'Skill']]"
      ]
     },
     "execution_count": 83,
     "metadata": {},
     "output_type": "execute_result"
    }
   ],
   "source": [
    "lst"
   ]
  },
  {
   "cell_type": "code",
   "execution_count": 84,
   "id": "f86da4c2",
   "metadata": {},
   "outputs": [],
   "source": [
    "# Extend list\n",
    "lst.extend(['PW','Skills'])"
   ]
  },
  {
   "cell_type": "code",
   "execution_count": 85,
   "id": "a8973095",
   "metadata": {},
   "outputs": [
    {
     "data": {
      "text/plain": [
       "[1, 2, 3, 4, 5, 6, 'Pwskills', ['PW', 'Skill'], 'PW', 'Skills']"
      ]
     },
     "execution_count": 85,
     "metadata": {},
     "output_type": "execute_result"
    }
   ],
   "source": [
    "lst"
   ]
  },
  {
   "cell_type": "code",
   "execution_count": 86,
   "id": "08d052ad",
   "metadata": {},
   "outputs": [
    {
     "data": {
      "text/plain": [
       "'Skills'"
      ]
     },
     "execution_count": 86,
     "metadata": {},
     "output_type": "execute_result"
    }
   ],
   "source": [
    "# to remove any eliment from list\n",
    "lst.pop()"
   ]
  },
  {
   "cell_type": "code",
   "execution_count": 87,
   "id": "dbe4ca5c",
   "metadata": {},
   "outputs": [
    {
     "data": {
      "text/plain": [
       "[1, 2, 3, 4, 5, 6, 'Pwskills', ['PW', 'Skill'], 'PW']"
      ]
     },
     "execution_count": 87,
     "metadata": {},
     "output_type": "execute_result"
    }
   ],
   "source": [
    "lst"
   ]
  },
  {
   "cell_type": "code",
   "execution_count": 88,
   "id": "7f3f049e",
   "metadata": {},
   "outputs": [
    {
     "data": {
      "text/plain": [
       "3"
      ]
     },
     "execution_count": 88,
     "metadata": {},
     "output_type": "execute_result"
    }
   ],
   "source": [
    "lst.pop(2)"
   ]
  },
  {
   "cell_type": "code",
   "execution_count": 89,
   "id": "2ad099a7",
   "metadata": {},
   "outputs": [
    {
     "data": {
      "text/plain": [
       "[1, 2, 4, 5, 6, 'Pwskills', ['PW', 'Skill'], 'PW']"
      ]
     },
     "execution_count": 89,
     "metadata": {},
     "output_type": "execute_result"
    }
   ],
   "source": [
    "lst"
   ]
  },
  {
   "cell_type": "code",
   "execution_count": 90,
   "id": "94638c4d",
   "metadata": {},
   "outputs": [
    {
     "data": {
      "text/plain": [
       "1"
      ]
     },
     "execution_count": 90,
     "metadata": {},
     "output_type": "execute_result"
    }
   ],
   "source": [
    "removed_eliment = lst.pop(0)\n",
    "removed_eliment"
   ]
  },
  {
   "cell_type": "code",
   "execution_count": 91,
   "id": "d4273fad",
   "metadata": {},
   "outputs": [
    {
     "data": {
      "text/plain": [
       "1"
      ]
     },
     "execution_count": 91,
     "metadata": {},
     "output_type": "execute_result"
    }
   ],
   "source": [
    "removed_eliment"
   ]
  },
  {
   "cell_type": "code",
   "execution_count": 92,
   "id": "8065ca5f",
   "metadata": {},
   "outputs": [],
   "source": [
    "new_lst= ['q','e','r','t','y','u','i']"
   ]
  },
  {
   "cell_type": "code",
   "execution_count": 93,
   "id": "39d17720",
   "metadata": {},
   "outputs": [
    {
     "data": {
      "text/plain": [
       "['q', 'e', 'r', 't', 'y', 'u', 'i']"
      ]
     },
     "execution_count": 93,
     "metadata": {},
     "output_type": "execute_result"
    }
   ],
   "source": [
    "new_lst"
   ]
  },
  {
   "cell_type": "code",
   "execution_count": 94,
   "id": "5d6e0bfd",
   "metadata": {},
   "outputs": [
    {
     "data": {
      "text/plain": [
       "['i', 'u', 'y', 't', 'r', 'e', 'q']"
      ]
     },
     "execution_count": 94,
     "metadata": {},
     "output_type": "execute_result"
    }
   ],
   "source": [
    "new_lst[::-1]"
   ]
  },
  {
   "cell_type": "code",
   "execution_count": 95,
   "id": "ab299dd1",
   "metadata": {},
   "outputs": [],
   "source": [
    "#in place method \n",
    "new_lst.reverse()"
   ]
  },
  {
   "cell_type": "code",
   "execution_count": 96,
   "id": "26b47e19",
   "metadata": {},
   "outputs": [
    {
     "data": {
      "text/plain": [
       "['i', 'u', 'y', 't', 'r', 'e', 'q']"
      ]
     },
     "execution_count": 96,
     "metadata": {},
     "output_type": "execute_result"
    }
   ],
   "source": [
    "new_lst"
   ]
  },
  {
   "cell_type": "code",
   "execution_count": 97,
   "id": "07cdf045",
   "metadata": {},
   "outputs": [],
   "source": [
    "#in place method\n",
    "new_lst.sort()"
   ]
  },
  {
   "cell_type": "code",
   "execution_count": 98,
   "id": "ec8825e3",
   "metadata": {},
   "outputs": [
    {
     "data": {
      "text/plain": [
       "['e', 'i', 'q', 'r', 't', 'u', 'y']"
      ]
     },
     "execution_count": 98,
     "metadata": {},
     "output_type": "execute_result"
    }
   ],
   "source": [
    "new_lst"
   ]
  },
  {
   "cell_type": "markdown",
   "id": "9e5da251",
   "metadata": {},
   "source": [
    "# Nested List"
   ]
  },
  {
   "cell_type": "code",
   "execution_count": 99,
   "id": "d8e8c37f",
   "metadata": {},
   "outputs": [],
   "source": [
    "#let's make three lists\n",
    "lst_1=[1,2,3]\n",
    "lst_2=[4,5,6]\n",
    "lst_3=[7,8,9]\n",
    "\n",
    "#make a list of lists to from a Matrix\n",
    "\n",
    "matrix=[lst_1,lst_2,lst_3]"
   ]
  },
  {
   "cell_type": "code",
   "execution_count": 100,
   "id": "0ec0e173",
   "metadata": {},
   "outputs": [
    {
     "data": {
      "text/plain": [
       "[[1, 2, 3], [4, 5, 6], [7, 8, 9]]"
      ]
     },
     "execution_count": 100,
     "metadata": {},
     "output_type": "execute_result"
    }
   ],
   "source": [
    "matrix"
   ]
  },
  {
   "cell_type": "code",
   "execution_count": 101,
   "id": "a4ad6099",
   "metadata": {},
   "outputs": [
    {
     "data": {
      "text/plain": [
       "6"
      ]
     },
     "execution_count": 101,
     "metadata": {},
     "output_type": "execute_result"
    }
   ],
   "source": [
    "matrix[1][2]"
   ]
  },
  {
   "cell_type": "code",
   "execution_count": 102,
   "id": "449312ff",
   "metadata": {},
   "outputs": [
    {
     "data": {
      "text/plain": [
       "[8, 9]"
      ]
     },
     "execution_count": 102,
     "metadata": {},
     "output_type": "execute_result"
    }
   ],
   "source": [
    "matrix[2][1:]"
   ]
  },
  {
   "cell_type": "code",
   "execution_count": 103,
   "id": "00b1c347",
   "metadata": {},
   "outputs": [
    {
     "ename": "SyntaxError",
     "evalue": "invalid syntax (1378720680.py, line 1)",
     "output_type": "error",
     "traceback": [
      "\u001b[1;36m  File \u001b[1;32m\"C:\\Users\\prabi\\AppData\\Local\\Temp\\ipykernel_14840\\1378720680.py\"\u001b[1;36m, line \u001b[1;32m1\u001b[0m\n\u001b[1;33m    matrix[0][0]:[1][0]:[2][0]\u001b[0m\n\u001b[1;37m                       ^\u001b[0m\n\u001b[1;31mSyntaxError\u001b[0m\u001b[1;31m:\u001b[0m invalid syntax\n"
     ]
    }
   ],
   "source": [
    "matrix[0][0]:[1][0]:[2][0]"
   ]
  },
  {
   "cell_type": "code",
   "execution_count": 114,
   "id": "33860465",
   "metadata": {},
   "outputs": [
    {
     "name": "stdout",
     "output_type": "stream",
     "text": [
      "0 1 2 3 4 5 6 7 8 9 10 11 12 13 14 15 16 17 18 19 "
     ]
    }
   ],
   "source": [
    "# List Comprehension\n",
    "for i in range(20):\n",
    "    print(i,end=\" \")"
   ]
  },
  {
   "cell_type": "code",
   "execution_count": 115,
   "id": "1fa19612",
   "metadata": {},
   "outputs": [
    {
     "data": {
      "text/plain": [
       "[0, 1, 2, 3, 4, 5, 6, 7, 8, 9, 10, 11, 12, 13, 14, 15, 16, 17, 18, 19]"
      ]
     },
     "execution_count": 115,
     "metadata": {},
     "output_type": "execute_result"
    }
   ],
   "source": [
    "# List Comprehension\n",
    "[i for i in range(20)]"
   ]
  },
  {
   "cell_type": "code",
   "execution_count": 116,
   "id": "978986c4",
   "metadata": {},
   "outputs": [
    {
     "ename": "SyntaxError",
     "evalue": "invalid syntax (4037352180.py, line 2)",
     "output_type": "error",
     "traceback": [
      "\u001b[1;36m  File \u001b[1;32m\"C:\\Users\\prabi\\AppData\\Local\\Temp\\ipykernel_14840\\4037352180.py\"\u001b[1;36m, line \u001b[1;32m2\u001b[0m\n\u001b[1;33m    [i for i in range(20)]:\u001b[0m\n\u001b[1;37m                           ^\u001b[0m\n\u001b[1;31mSyntaxError\u001b[0m\u001b[1;31m:\u001b[0m invalid syntax\n"
     ]
    }
   ],
   "source": [
    "# List Comprehension\n",
    "[i for i in range(20)]:\n",
    "    print(i,end=\" \")"
   ]
  },
  {
   "cell_type": "code",
   "execution_count": 167,
   "id": "c0a2252c",
   "metadata": {},
   "outputs": [
    {
     "name": "stdout",
     "output_type": "stream",
     "text": [
      "[0, '*', 2, '*', 4, '*', 6, '*', 8, '*', 10, '*', 12, '*', 14, '*', 16, '*', 18, '*']"
     ]
    }
   ],
   "source": [
    "# List Comprehension\n",
    "print([i if i%2 ==0 else \"*\" for i in range(0,20)],end=\"\")"
   ]
  },
  {
   "cell_type": "code",
   "execution_count": 295,
   "id": "aa2c15c2",
   "metadata": {},
   "outputs": [
    {
     "name": "stdout",
     "output_type": "stream",
     "text": [
      "20\n",
      "16\n"
     ]
    }
   ],
   "source": [
    "## Assignment\n",
    "## Sum of even numbers ad odd numbers\n",
    "lst = [1,2,3,4,5,6,7,8,]\n",
    "Sum_even=0\n",
    "Sum_odd=0\n",
    "for i in (lst):\n",
    "    if i%2==0:\n",
    "        Sum_even+=i\n",
    "    else:\n",
    "        Sum_odd+=i\n",
    "print(Sum_even)\n",
    "print(Sum_odd)"
   ]
  },
  {
   "cell_type": "code",
   "execution_count": 287,
   "id": "77f8a370",
   "metadata": {},
   "outputs": [],
   "source": [
    "even_sum=[num for num in lst if num%2==0]"
   ]
  },
  {
   "cell_type": "code",
   "execution_count": 288,
   "id": "65f1dc13",
   "metadata": {},
   "outputs": [
    {
     "data": {
      "text/plain": [
       "[2, 4, 6, 8]"
      ]
     },
     "execution_count": 288,
     "metadata": {},
     "output_type": "execute_result"
    }
   ],
   "source": [
    "even_sum"
   ]
  },
  {
   "cell_type": "code",
   "execution_count": 289,
   "id": "fd6cb81f",
   "metadata": {},
   "outputs": [
    {
     "data": {
      "text/plain": [
       "20"
      ]
     },
     "execution_count": 289,
     "metadata": {},
     "output_type": "execute_result"
    }
   ],
   "source": [
    "sum(even_sum)"
   ]
  },
  {
   "cell_type": "code",
   "execution_count": 290,
   "id": "0e1d84f3",
   "metadata": {},
   "outputs": [],
   "source": [
    "Odd_Sum=[num for num in lst if num%2 != 0]"
   ]
  },
  {
   "cell_type": "code",
   "execution_count": 291,
   "id": "63c274f8",
   "metadata": {},
   "outputs": [
    {
     "data": {
      "text/plain": [
       "[1, 3, 5, 7]"
      ]
     },
     "execution_count": 291,
     "metadata": {},
     "output_type": "execute_result"
    }
   ],
   "source": [
    "Odd_Sum"
   ]
  },
  {
   "cell_type": "code",
   "execution_count": 181,
   "id": "eba52ab7",
   "metadata": {},
   "outputs": [
    {
     "data": {
      "text/plain": [
       "16"
      ]
     },
     "execution_count": 181,
     "metadata": {},
     "output_type": "execute_result"
    }
   ],
   "source": [
    "sum(Odd_Sum)"
   ]
  },
  {
   "cell_type": "code",
   "execution_count": 190,
   "id": "6d40a5eb",
   "metadata": {},
   "outputs": [
    {
     "data": {
      "text/plain": [
       "[1, 4, 9, 16, 25, 36, 49, 64, 81]"
      ]
     },
     "execution_count": 190,
     "metadata": {},
     "output_type": "execute_result"
    }
   ],
   "source": [
    "# find the square of list items\n",
    "lst=[1,2,3,4,5,6,7,8,9]\n",
    "\n",
    "[num**2 for num in lst]"
   ]
  },
  {
   "cell_type": "code",
   "execution_count": 195,
   "id": "4ec29bca",
   "metadata": {},
   "outputs": [
    {
     "data": {
      "text/plain": [
       "-3"
      ]
     },
     "execution_count": 195,
     "metadata": {},
     "output_type": "execute_result"
    }
   ],
   "source": [
    "# Create a list of only the positive number from a given list\n",
    "number =[-1,-2,0,1,2,3,4,5]\n",
    "sum([num for num in number if num <0])"
   ]
  },
  {
   "cell_type": "code",
   "execution_count": 201,
   "id": "a57e2129",
   "metadata": {},
   "outputs": [
    {
     "data": {
      "text/plain": [
       "['apple', 'banana', 'cherry', 'date']"
      ]
     },
     "execution_count": 201,
     "metadata": {},
     "output_type": "execute_result"
    }
   ],
   "source": [
    "# Create a list  on only the first letter of words in the list\n",
    "\n",
    "words=['apple','banana','cherry','date']\n",
    "[i[] for i in words]"
   ]
  },
  {
   "cell_type": "code",
   "execution_count": 205,
   "id": "c49712ed",
   "metadata": {},
   "outputs": [
    {
     "data": {
      "text/plain": [
       "[32.0, 33.8, 35.6, 37.4, 39.2, 41.0, 42.8, 44.6, 46.4]"
      ]
     },
     "execution_count": 205,
     "metadata": {},
     "output_type": "execute_result"
    }
   ],
   "source": [
    "# Example 4 : convert a list of temperatures from celsius to Fahrenheit using list comprehesnion\n",
    "#(9/5)*temp+32\n",
    "celcius_temperatures = [0,1,2,3,4,5,6,7,8]\n",
    "[(9/5)*i+32 for i in celcius_temperatures]"
   ]
  },
  {
   "cell_type": "code",
   "execution_count": 217,
   "id": "deedb697",
   "metadata": {},
   "outputs": [],
   "source": [
    "# Example 5 : flattten a list of lists into single list\n",
    "lists=[[1,2,3],[4,5,6],[7,8,9,11]]"
   ]
  },
  {
   "cell_type": "code",
   "execution_count": 218,
   "id": "b04c38f4",
   "metadata": {},
   "outputs": [
    {
     "data": {
      "text/plain": [
       "[[1, 2, 3], [4, 5, 6], [7, 8, 9, 11]]"
      ]
     },
     "execution_count": 218,
     "metadata": {},
     "output_type": "execute_result"
    }
   ],
   "source": [
    "lists"
   ]
  },
  {
   "cell_type": "code",
   "execution_count": 219,
   "id": "1c26b8e5",
   "metadata": {},
   "outputs": [
    {
     "data": {
      "text/plain": [
       "[1, 2, 3, 4, 5, 6, 7, 8, 9, 11]"
      ]
     },
     "execution_count": 219,
     "metadata": {},
     "output_type": "execute_result"
    }
   ],
   "source": [
    "[i for j in lists for i in j]"
   ]
  },
  {
   "cell_type": "code",
   "execution_count": 328,
   "id": "ca7622e8",
   "metadata": {},
   "outputs": [],
   "source": [
    "# Assignment\n",
    "# Using both code and list comprehesnion\n",
    "# Example 2 Create and list of only the prime number form a given list\n",
    "\n",
    "number =[1,2,3,4,5,6,7,8,9]"
   ]
  },
  {
   "cell_type": "code",
   "execution_count": 416,
   "id": "d9f0151d",
   "metadata": {},
   "outputs": [
    {
     "ename": "IndentationError",
     "evalue": "expected an indented block (3903408961.py, line 4)",
     "output_type": "error",
     "traceback": [
      "\u001b[1;36m  File \u001b[1;32m\"C:\\Users\\prabi\\AppData\\Local\\Temp\\ipykernel_14840\\3903408961.py\"\u001b[1;36m, line \u001b[1;32m4\u001b[0m\n\u001b[1;33m    if number%i == 0:\u001b[0m\n\u001b[1;37m                     ^\u001b[0m\n\u001b[1;31mIndentationError\u001b[0m\u001b[1;31m:\u001b[0m expected an indented block\n"
     ]
    }
   ],
   "source": [
    "number = [1,2,3,4,5,6,7,8,9]\n",
    "prime=[]\n",
    "for i in range(2,number-1):\n",
    "    if number%i == 0:"
   ]
  },
  {
   "cell_type": "code",
   "execution_count": 330,
   "id": "eaaa498c",
   "metadata": {},
   "outputs": [],
   "source": [
    "# Example 3: Create a list of all possible combination of 2 eliments from a list\n",
    "numbers = [1,2,3,4,5,6,7,8,9]"
   ]
  },
  {
   "cell_type": "code",
   "execution_count": 316,
   "id": "8db0ce1d",
   "metadata": {},
   "outputs": [
    {
     "name": "stdout",
     "output_type": "stream",
     "text": [
      "[2, 3, 5, 7, 11, 13, 17, 19, 23, 29, 31, 37, 41, 43, 47]\n"
     ]
    }
   ],
   "source": [
    "def prime_numbers(n):\n",
    "    primes = []\n",
    "    for i in range(2, n + 1):\n",
    "        for j in range(2, int(i ** 0.5) + 1):\n",
    "            if i%j == 0:\n",
    "                break\n",
    "        else:\n",
    "            primes.append(i)\n",
    "    return primes\n",
    "\n",
    "prime_list = prime_numbers(50)\n",
    "print(prime_list)"
   ]
  },
  {
   "cell_type": "code",
   "execution_count": 333,
   "id": "62e577cd",
   "metadata": {},
   "outputs": [
    {
     "ename": "SyntaxError",
     "evalue": "invalid syntax (2844079231.py, line 1)",
     "output_type": "error",
     "traceback": [
      "\u001b[1;36m  File \u001b[1;32m\"C:\\Users\\prabi\\AppData\\Local\\Temp\\ipykernel_14840\\2844079231.py\"\u001b[1;36m, line \u001b[1;32m1\u001b[0m\n\u001b[1;33m    print([i for i in range number if 0 not in [i%n for n in range number])\u001b[0m\n\u001b[1;37m                            ^\u001b[0m\n\u001b[1;31mSyntaxError\u001b[0m\u001b[1;31m:\u001b[0m invalid syntax\n"
     ]
    }
   ],
   "source": [
    "print([i for i in range number if 0 not in [i%n for n in range number])"
   ]
  },
  {
   "cell_type": "code",
   "execution_count": 334,
   "id": "4c777cf1",
   "metadata": {},
   "outputs": [
    {
     "name": "stdout",
     "output_type": "stream",
     "text": [
      "[2, 3, 5, 7, 11, 13, 17, 19, 23, 29, 31, 37, 41, 43, 47]\n"
     ]
    }
   ],
   "source": [
    "print([i for i in range(2, 50) if 0 not in [i%n for n in range(2, i)]])"
   ]
  },
  {
   "cell_type": "code",
   "execution_count": 341,
   "id": "2192a35b",
   "metadata": {},
   "outputs": [
    {
     "name": "stdout",
     "output_type": "stream",
     "text": [
      "4\n",
      "5\n",
      "6\n",
      "7\n",
      "8\n"
     ]
    }
   ],
   "source": [
    "for i in range (4,9):\n",
    "    print(i)"
   ]
  },
  {
   "cell_type": "code",
   "execution_count": 336,
   "id": "d19b45f3",
   "metadata": {},
   "outputs": [
    {
     "data": {
      "text/plain": [
       "0"
      ]
     },
     "execution_count": 336,
     "metadata": {},
     "output_type": "execute_result"
    }
   ],
   "source": [
    "10%1"
   ]
  },
  {
   "cell_type": "code",
   "execution_count": 339,
   "id": "883d66eb",
   "metadata": {},
   "outputs": [
    {
     "data": {
      "text/plain": [
       "4"
      ]
     },
     "execution_count": 339,
     "metadata": {},
     "output_type": "execute_result"
    }
   ],
   "source": [
    "10%6"
   ]
  },
  {
   "cell_type": "code",
   "execution_count": 360,
   "id": "b64702de",
   "metadata": {},
   "outputs": [
    {
     "data": {
      "text/plain": [
       "2.0"
      ]
     },
     "execution_count": 360,
     "metadata": {},
     "output_type": "execute_result"
    }
   ],
   "source": [
    "8/4"
   ]
  },
  {
   "cell_type": "code",
   "execution_count": 366,
   "id": "7df9be4e",
   "metadata": {},
   "outputs": [
    {
     "data": {
      "text/plain": [
       "0"
      ]
     },
     "execution_count": 366,
     "metadata": {},
     "output_type": "execute_result"
    }
   ],
   "source": [
    "8%8"
   ]
  },
  {
   "cell_type": "code",
   "execution_count": null,
   "id": "8566cf6a",
   "metadata": {},
   "outputs": [],
   "source": []
  }
 ],
 "metadata": {
  "kernelspec": {
   "display_name": "Python 3 (ipykernel)",
   "language": "python",
   "name": "python3"
  },
  "language_info": {
   "codemirror_mode": {
    "name": "ipython",
    "version": 3
   },
   "file_extension": ".py",
   "mimetype": "text/x-python",
   "name": "python",
   "nbconvert_exporter": "python",
   "pygments_lexer": "ipython3",
   "version": "3.9.13"
  }
 },
 "nbformat": 4,
 "nbformat_minor": 5
}
